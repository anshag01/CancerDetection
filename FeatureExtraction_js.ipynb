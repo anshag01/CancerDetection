{
 "cells": [
  {
   "attachments": {},
   "cell_type": "markdown",
   "metadata": {},
   "source": [
    "## CNN Feature Extraction using RestNet"
   ]
  },
  {
   "cell_type": "code",
   "metadata": {},
   "source": [
    "import pandas as pd\n",
    "import matplotlib.pyplot as plt\n",
    "import methods \n",
    "import numpy as np\n",
    "import torch\n",
    "import torchvision\n",
    "import torchvision.transforms as transforms\n",
    "#import torchvision.models as models\n",
    "from torchvision.models import resnet50, ResNet50_Weights\n",
    "\n",
    "from PIL import Image\n",
    "from torch.utils.data import Dataset, DataLoader\n",
    "import os\n",
    "import torch.nn as nn\n",
    "import sklearn.model_selection as model_selection\n",
    "import sklearn.linear_model as linear_model\n",
    "import sklearn.metrics as metrics\n",
    "from sklearn import linear_model, metrics, model_selection\n",
    "from sklearn.preprocessing import StandardScaler\n",
    "from sklearn.pipeline import Pipeline\n",
    "import subprocess\n",
    "from modeling_methods import ImageDataset\n",
    "from tqdm import tqdm\n",
    "\n",
    "import pandas as pd\n",
    "from data_augmentation import split_data_and_oversample, crop_rotate\n",
    "import os\n",
    "import cv2\n",
    "import matplotlib.pyplot as plt\n",
    "import numpy as np\n",
    "from sklearn.decomposition import PCA\n",
    "from sklearn.linear_model import LogisticRegression\n",
    "from sklearn.metrics import (\n",
    "    accuracy_score,\n",
    "    confusion_matrix,\n",
    "    ConfusionMatrixDisplay,\n",
    "    precision_score,\n",
    "    f1_score,\n",
    "    recall_score,\n",
    ")\n",
    "from sklearn import svm\n",
    "from sklearn.preprocessing import StandardScaler\n",
    "from os.path import join\n",
    "import subprocess\n",
    "import methods\n",
    "\n",
    "%load_ext autoreload\n",
    "%autoreload 2"
   ],
   "outputs": [],
   "execution_count": null
  },
  {
   "attachments": {},
   "cell_type": "markdown",
   "metadata": {},
   "source": [
    "## Load the Model\n"
   ]
  },
  {
   "cell_type": "code",
   "metadata": {},
   "source": [
    "#Using the RestNet 50 model to extract features using pretrained weights\n",
    "model = resnet50(weights=ResNet50_Weights.DEFAULT)"
   ],
   "outputs": [],
   "execution_count": null
  },
  {
   "attachments": {},
   "cell_type": "markdown",
   "metadata": {},
   "source": "## Data PreProcessing "
  },
  {
   "metadata": {},
   "cell_type": "code",
   "source": [
    "# load repo and\n",
    "repo_dir = (\n",
    "    subprocess.Popen([\"git\", \"rev-parse\", \"--show-toplevel\"], stdout=subprocess.PIPE)\n",
    "    .communicate()[0]\n",
    "    .rstrip()\n",
    "    .decode(\"utf-8\")\n",
    ")\n",
    "# original_folder_path =  os.path.join(repo_dir, 'dataverse_files/HAM10000_images_part_1')\n",
    "#original_folder_path =  os.path.join(repo_dir, 'dataverse_files/HAM10000_images_part_1_2')\n",
    "original_folder_path = os.path.join(repo_dir, 'preprocessed_images')\n",
    "#original_folder_path = os.path.join(repo_dir, \"dataverse_files/JS_Selection\")"
   ],
   "outputs": [],
   "execution_count": null
  },
  {
   "cell_type": "code",
   "metadata": {},
   "source": [
    "transform = transforms.Compose([\n",
    "    transforms.Resize(232),\n",
    "    transforms.CenterCrop(450), # adapted to use larger region \n",
    "    transforms.ToTensor(),\n",
    "    transforms.Normalize(mean=[0.485, 0.456, 0.406], std=[0.229, 0.224, 0.225])\n",
    "])\n",
    "dataset = ImageDataset(directory=original_folder_path, transform=transform)\n",
    "data_loader = DataLoader(dataset, batch_size=16, shuffle=False, num_workers=0)\n"
   ],
   "outputs": [],
   "execution_count": null
  },
  {
   "attachments": {},
   "cell_type": "markdown",
   "metadata": {},
   "source": [
    "## Feature Extraction"
   ]
  },
  {
   "metadata": {},
   "cell_type": "code",
   "source": [
    "# Determine the best available device\n",
    "if torch.cuda.is_available():\n",
    "    device = 'cuda'\n",
    "elif torch.backends.mps.is_available():\n",
    "    device = 'mps'\n",
    "else:\n",
    "    device = 'cpu'\n",
    "print(f\"Using device: {device}\")"
   ],
   "outputs": [],
   "execution_count": null
  },
  {
   "cell_type": "code",
   "metadata": {},
   "source": [
    "model = model.to(device)  # Move your model to the appropriate device\n",
    "model.eval()  # Set the model to evaluation mode\n",
    "\n",
    "features_map2 = {}\n",
    "with torch.no_grad():\n",
    "    for batch_idx, (key, images) in enumerate(tqdm(data_loader)):\n",
    "        images = images.to(device)  # Move images to the appropriate device\n",
    "\n",
    "        batch_features = model(images)\n",
    "        batch_features = batch_features.view(batch_features.size(0), -1)  # Flatten features\n",
    "\n",
    "        batch_features = batch_features.cpu().numpy()  # Move features to CPU for numpy conversion\n",
    "\n",
    "        for i, feature in enumerate(batch_features):\n",
    "            image_id = batch_idx * data_loader.batch_size + i  # Compute global image ID/index\n",
    "            features_map2[key[i]] = feature"
   ],
   "outputs": [],
   "execution_count": null
  },
  {
   "cell_type": "code",
   "metadata": {},
   "source": [
    "#Saving the features\n",
    "features_df = pd.DataFrame(features_map2)\n",
    "features_df\n",
    "features_df.to_json('features_js.json')\n",
    "#features_df"
   ],
   "outputs": [],
   "execution_count": null
  },
  {
   "cell_type": "markdown",
   "source": "## Training the model using logistic regression",
   "metadata": {
    "collapsed": false
   }
  },
  {
   "metadata": {},
   "cell_type": "code",
   "source": [
    "label = pd.read_csv(os.path.join(repo_dir, \"dataverse_files/\", \"HAM10000_metadata.csv\"))\n",
    "#label = label.set_index('image_id')\n",
    "cancerous = [\"akiec\", \"bcc\", \"mel\"]\n",
    "non_cancerous = [\"bkl\", \"df\", \"nv\", \"vasc\"]\n",
    "label['cancer'] = False\n",
    "label.loc[label['dx'].isin(cancerous), \"cancer\"] = True\n",
    "label.loc[label['dx'].isin(non_cancerous), \"cancer\"] = False\n",
    "label"
   ],
   "outputs": [],
   "execution_count": null
  },
  {
   "metadata": {},
   "cell_type": "code",
   "source": [
    "files = os.listdir(original_folder_path)\n",
    "files = [f.split(\".\")[-2] for f in files if f.endswith(\".jpg\")]\n",
    "\n",
    "temp_files = pd.DataFrame(files, columns=[\"filename\"])\n",
    "temp_files[\"image_id\"] = temp_files.filename.apply(lambda x: x.split(\"_\")[-2] + \"_\" + x.split(\"_\")[-1])\n",
    "\n",
    "label_ = temp_files.merge(label, on='image_id', how='left')"
   ],
   "outputs": [],
   "execution_count": null
  },
  {
   "metadata": {},
   "cell_type": "code",
   "source": [
    "features = pd.read_json('features_js_10k_rotated.json')\n",
    "features = features.T\n",
    "\n",
    "merged_data = features.merge(label_, left_index=True, right_on='image_id')\n",
    "merged_data"
   ],
   "outputs": [],
   "execution_count": null
  },
  {
   "metadata": {},
   "cell_type": "code",
   "source": [
    "# export cnn features\n",
    "merged_data.to_csv(os.path.join(repo_dir, \"cnn_features_js.csv\"))"
   ],
   "outputs": [],
   "execution_count": null
  },
  {
   "metadata": {},
   "cell_type": "markdown",
   "source": "# Modeling"
  },
  {
   "metadata": {},
   "cell_type": "code",
   "source": [
    "augmented_unique_files = np.unique([f.split(\"_\")[-2] +\"_\" + f.split(\"_\")[-1] for f in merged_data.filename if \"augmented\" in f])\n",
    "\n",
    "include_in_testing = [False if id in augmented_unique_files else True for id in merged_data.image_id]"
   ],
   "outputs": [],
   "execution_count": null
  },
  {
   "metadata": {},
   "cell_type": "code",
   "source": [
    "x = merged_data.iloc[:, :1000].to_numpy()\n",
    "y = merged_data['cancer'].to_numpy()\n",
    "TEST_SIZE = 0.30\n",
    "\n",
    "# this formula accounts for the fact that we want to have 30% pure training data\n",
    "# if we oversample the images before we need to ignore the oversampled images in that count\n",
    "# (this only work because only a fraction of the pictures is oversampled in the first place)\n",
    "test_size_sklearn = TEST_SIZE * len(np.unique(merged_data.image_id)) / np.sum(include_in_testing)\n",
    "\n",
    "x_train_, x_test, y_train_, y_test = model_selection.train_test_split(x[include_in_testing], y[include_in_testing], test_size=test_size_sklearn)\n",
    "x_train = np.concatenate((x_train_, x[np.invert(include_in_testing)]), axis=0)\n",
    "y_train = np.concatenate((y_train_, y[np.invert(include_in_testing)]), axis=0)\n"
   ],
   "outputs": [],
   "execution_count": null
  },
  {
   "metadata": {},
   "cell_type": "code",
   "source": "np.shape(x_train), np.shape(y_train), np.shape(x_test), np.shape(y_test), len(x_test) / len(x), len(np.unique(merged_data.image_id))",
   "outputs": [],
   "execution_count": null
  },
  {
   "metadata": {},
   "cell_type": "code",
   "source": [
    "# Initialize PCA,\n",
    "pca = PCA(n_components=0.9)\n",
    "\n",
    "# Fit and transform the data\n",
    "pca.fit(np.concatenate((x_train, x_test), axis=0))\n",
    "x_train_pca = pca.transform(x_train)\n",
    "x_test_pca = pca.transform(x_test)\n",
    "\n",
    "# Check the new shape of the data\n",
    "print(x_train_pca.shape)"
   ],
   "outputs": [],
   "execution_count": null
  },
  {
   "metadata": {},
   "cell_type": "code",
   "source": [
    "# Scatter plot of the first two PCA components\n",
    "# Here, X_pca[:, 0] is the first component, X_pca[:, 1] is the second component\n",
    "plt.figure(figsize=(10, 7))\n",
    "plt.scatter(\n",
    "    x_train_pca[y_train == 0, 0],\n",
    "    x_train_pca[y_train == 0, 1],\n",
    "    c=\"blue\",\n",
    "    label=\"Non-Cancerous\",\n",
    "    alpha=0.5,\n",
    ")  # Non-cancerous in blue\n",
    "plt.scatter(\n",
    "    x_train_pca[y_train == 1, 0],\n",
    "    x_train_pca[y_train == 1, 1],\n",
    "    c=\"red\",\n",
    "    label=\"Cancerous\",\n",
    "    alpha=0.5,\n",
    ")  # Cancerous labeled in red\n",
    "\n",
    "# Adding labels and title\n",
    "plt.xlabel(\"Principal Component 1\")\n",
    "plt.ylabel(\"Principal Component 2\")\n",
    "plt.title(\"PCA of Image Data\")\n",
    "plt.legend()"
   ],
   "outputs": [],
   "execution_count": null
  },
  {
   "metadata": {},
   "cell_type": "code",
   "source": [
    "print(\"starting model\")\n",
    "lin_model = linear_model.LogisticRegression(solver='newton-cg', multi_class='auto', max_iter=5000, class_weight=None)\n",
    "print(\"starting fitting\")\n",
    "#lin_model.fit(x_train, y_train)\n",
    "lin_model.fit(x_train_pca, y_train)\n",
    "\n",
    "#y_pred = lin_model.predict(x_test)\n",
    "y_pred = lin_model.predict(x_test_pca)"
   ],
   "outputs": [],
   "execution_count": null
  },
  {
   "metadata": {},
   "cell_type": "code",
   "source": [
    "conf_matrix = confusion_matrix(y_test, y_pred)\n",
    "\n",
    "# Initialize the ConfusionMatrixDisplay object with the confusion matrix\n",
    "cmd = ConfusionMatrixDisplay(conf_matrix)\n",
    "\n",
    "# Plot the confusion matrix\n",
    "cmd.plot(\n",
    "    cmap=plt.cm.Blues\n",
    ")  # You can choose other color maps like 'viridis', 'plasma', etc.\n",
    "plt.title(\"Confusion Matrix\")\n",
    "plt.show()"
   ],
   "outputs": [],
   "execution_count": null
  },
  {
   "metadata": {},
   "cell_type": "code",
   "source": [
    "accuracy = accuracy_score(y_test, y_pred)\n",
    "precision = precision_score(y_test, y_pred, pos_label=1)\n",
    "recall = recall_score(y_test, y_pred, pos_label=1)\n",
    "f1 = f1_score(y_test, y_pred, pos_label=1)\n",
    "\n",
    "print(f\"Accuracy: {accuracy}\")\n",
    "print(f\"Precision: {precision}\")\n",
    "print(f\"Recall: {recall}\")\n",
    "print(f\"F1 Score: {f1}\")"
   ],
   "outputs": [],
   "execution_count": null
  }
 ],
 "metadata": {
  "kernelspec": {
   "display_name": "base",
   "language": "python",
   "name": "python3"
  },
  "language_info": {
   "codemirror_mode": {
    "name": "ipython",
    "version": 3
   },
   "file_extension": ".py",
   "mimetype": "text/x-python",
   "name": "python",
   "nbconvert_exporter": "python",
   "pygments_lexer": "ipython3",
   "version": "3.11.5"
  },
  "orig_nbformat": 4
 },
 "nbformat": 4,
 "nbformat_minor": 2
}
