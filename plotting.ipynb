{
 "cells": [
  {
   "cell_type": "code",
   "id": "initial_id",
   "metadata": {
    "collapsed": true,
    "ExecuteTime": {
     "end_time": "2024-04-28T04:36:52.578792Z",
     "start_time": "2024-04-28T04:36:52.540832Z"
    }
   },
   "source": [
    "import pandas as pd\n",
    "import matplotlib.pyplot as plt\n",
    "import numpy as np\n",
    "import torch\n",
    "import torchvision.transforms as transforms\n",
    "\n",
    "from torchvision.models import resnet50, ResNet50_Weights\n",
    "\n",
    "from torch.utils.data import DataLoader\n",
    "import os\n",
    "import sklearn.model_selection as model_selection\n",
    "import sklearn.linear_model as linear_model\n",
    "import subprocess\n",
    "from tqdm import tqdm\n",
    "\n",
    "from sklearn.decomposition import PCA, KernelPCA\n",
    "\n",
    "from sklearn.neural_network import MLPClassifier\n",
    "\n",
    "from methods import (\n",
    "    get_labels,\n",
    "    ImageHeuristicFeatureExtractor,\n",
    "    standardize_features,\n",
    "    ImageDataset,\n",
    "    merge_features_with_labels,\n",
    "    not_oversampled_images,\n",
    "    calculate_test_size,\n",
    "    plot_confusion_matrix,\n",
    "    plot_low_dim_components,\n",
    ")\n",
    "\n",
    "from data_augmentation import split_data_and_oversample\n",
    "\n",
    "from sklearn.preprocessing import StandardScaler\n",
    "from sklearn import svm\n",
    "\n",
    "from sklearn.manifold import TSNE\n",
    "import shap\n",
    "\n",
    "from sklearn.ensemble import AdaBoostClassifier\n",
    "from sklearn.tree import DecisionTreeClassifier\n",
    "\n",
    "\n",
    "import numpy as np\n",
    "import matplotlib.pyplot as plt\n",
    "from matplotlib.colors import Normalize\n",
    "\n",
    "%load_ext autoreload\n",
    "%autoreload 2"
   ],
   "outputs": [
    {
     "name": "stdout",
     "output_type": "stream",
     "text": [
      "The autoreload extension is already loaded. To reload it, use:\n",
      "  %reload_ext autoreload\n"
     ]
    }
   ],
   "execution_count": 75
  },
  {
   "metadata": {
    "ExecuteTime": {
     "end_time": "2024-04-28T04:36:52.895365Z",
     "start_time": "2024-04-28T04:36:52.862876Z"
    }
   },
   "cell_type": "code",
   "source": [
    "import matplotlib.pylab as plt\n",
    "from matplotlib import rc\n",
    "\n",
    "rc('font', **{'family': 'serif', 'serif': ['Computer Modern']})\n",
    "rc('text', usetex=True)\n",
    "plt.rcParams.update({'font.size': 10})"
   ],
   "id": "381a28cff70c8131",
   "outputs": [],
   "execution_count": 76
  },
  {
   "metadata": {
    "ExecuteTime": {
     "end_time": "2024-04-27T15:39:34.123076Z",
     "start_time": "2024-04-27T15:39:33.326322Z"
    }
   },
   "cell_type": "code",
   "source": "from sklearn.metrics import ConfusionMatrixDisplay",
   "id": "3fa3d3ff076f01c0",
   "outputs": [],
   "execution_count": 3
  },
  {
   "metadata": {
    "ExecuteTime": {
     "end_time": "2024-04-28T04:36:54.761425Z",
     "start_time": "2024-04-28T04:36:54.514561Z"
    }
   },
   "cell_type": "code",
   "source": [
    "# Data: true_positive, false_negative, false_positive, true_negative\n",
    "#data = [1707, 481, 23, 95] # LogisticRegression_RestNetFeat_oversample\n",
    "data = [1242, 622, 81, 361] # LogisticRegression_heuristic feature not-oversampled\n",
    "data = [1792, 65, 271, 177] # ResNet End-To-End NOT oversampled\n",
    "data = [1440, 403, 115, 348] # Logistic Regression no Oversample\n",
    "\n",
    "# Reshape data into a 2x2 matrix\n",
    "matrix = np.array(data).reshape((2, 2))\n",
    "\n",
    "# Labels for the axes\n",
    "labels = ['No-Cancer', 'Cancer']\n",
    "#labels = ['Positive', 'Negative']\n",
    "\n",
    "# Create the plot\n",
    "fig, ax = plt.subplots(figsize=(3, 3))\n",
    "im = ax.imshow(matrix, interpolation='nearest', cmap='Blues', norm=Normalize(vmin=0, vmax=np.max(matrix)))\n",
    "\n",
    "# Add the text annotations.\n",
    "for i in range(2):\n",
    "    for j in range(2):\n",
    "        ax.text(j, i, format(matrix[i, j], 'd'),\n",
    "        ha=\"center\", va=\"center\",\n",
    "        color=\"white\" if matrix[i, j] > matrix.max() / 2 else \"black\")\n",
    "\n",
    "# We want to show all ticks...\n",
    "ax.set_xticks(np.arange(len(labels)))\n",
    "ax.set_yticks(np.arange(len(labels)))\n",
    "\n",
    "# ... and label them with the respective list entries\n",
    "ax.set_xticklabels(labels)\n",
    "ax.set_yticklabels(labels)\n",
    "\n",
    "# Rotate the tick labels and set their alignment.\n",
    "plt.setp(ax.get_xticklabels(), rotation=45, ha=\"right\",\n",
    "         rotation_mode=\"anchor\")\n",
    "\n",
    "# Set labels for axes\n",
    "ax.set_xlabel('Predicted Label')\n",
    "ax.set_ylabel('True Label')\n",
    "\n",
    "# Create colorbar\n",
    "cbar = ax.figure.colorbar(im, ax=ax, fraction=0.046, pad=0.04)\n",
    "cbar.ax.set_ylabel(\"\", rotation=-90, va=\"bottom\")\n",
    "\n",
    "# Set a title and show the plot\n",
    "#ax.set_title('Confusion Matrix')\n",
    "fig.tight_layout()\n",
    "\n",
    "path = \"/Users/juliansanten/Git/NUS/CancerDetection/figures/\"\n",
    "fig.savefig(path + \"Log_cnn_not_oversampled_.pdf\")\n",
    "fig.savefig(path + \"Log_cnn_not_oversampled_.png\", transparent=True, dpi=600)"
   ],
   "id": "4e204cdc62fadab9",
   "outputs": [
    {
     "data": {
      "text/plain": [
       "<Figure size 300x300 with 2 Axes>"
      ],
      "image/png": "[encoded data removed]"
     },
     "metadata": {},
     "output_type": "display_data"
    }
   ],
   "execution_count": 77
  },
  {
   "metadata": {
    "ExecuteTime": {
     "end_time": "2024-04-28T04:12:50.939954Z",
     "start_time": "2024-04-28T04:12:50.903912Z"
    }
   },
   "cell_type": "code",
   "source": "res = pd.read_csv(\"/Users/juliansanten/Git/NUS/CancerDetection/figures/csv.txt\")",
   "id": "fa7354c3247d9763",
   "outputs": [],
   "execution_count": 39
  },
  {
   "metadata": {
    "ExecuteTime": {
     "end_time": "2024-04-28T04:36:50.566568Z",
     "start_time": "2024-04-28T04:36:50.492686Z"
    }
   },
   "cell_type": "code",
   "source": [
    "#plt.style.use('dark_background') # dark_background # default\n",
    "plt.style.use('default')"
   ],
   "id": "19a346953b981eef",
   "outputs": [],
   "execution_count": 74
  },
  {
   "metadata": {
    "ExecuteTime": {
     "end_time": "2024-04-28T04:30:55.453897Z",
     "start_time": "2024-04-28T04:30:54.315891Z"
    }
   },
   "cell_type": "code",
   "source": [
    "fig = plt.figure(figsize=(2.5*1.2,1.5*1.4))\n",
    "ax = plt.gca()\n",
    "ax.plot(res.Epoch, res.Accuracy, label=\"Accuracy\", color=\"w\")\n",
    "ax.set_ylabel('Accuracy (1)')\n",
    "\n",
    "ax2 = ax.twinx()\n",
    "ax2.plot(res.Epoch, res.Loss, label=\"Accuracy (1)\", color=\"r\")\n",
    "ax2.set_ylabel(\"Loss (1)\", color=\"r\")\n",
    "ax2.tick_params(axis='y', labelcolor=\"r\")\n",
    "ax.set_xlabel(\"Epochs (1)\")\n",
    "\n",
    "fig.tight_layout()\n",
    "fig.savefig(path + \"Resnet_End_to_End_not_oversampled_loss.pdf\")\n",
    "fig.savefig(path + \"Resnet_End_to_End_not_oversampled_loss.png\", transparent=True, dpi=600)"
   ],
   "id": "7bbbda60b2782bee",
   "outputs": [
    {
     "data": {
      "text/plain": [
       "<Figure size 300x210 with 2 Axes>"
      ],
      "image/png": "[encoded data removed]"
     },
     "metadata": {},
     "output_type": "display_data"
    }
   ],
   "execution_count": 69
  },
  {
   "metadata": {},
   "cell_type": "code",
   "outputs": [],
   "execution_count": null,
   "source": "",
   "id": "cd8ef10ea1c60b8c"
  }
 ],
 "metadata": {
  "kernelspec": {
   "display_name": "Python 3",
   "language": "python",
   "name": "python3"
  },
  "language_info": {
   "codemirror_mode": {
    "name": "ipython",
    "version": 2
   },
   "file_extension": ".py",
   "mimetype": "text/x-python",
   "name": "python",
   "nbconvert_exporter": "python",
   "pygments_lexer": "ipython2",
   "version": "2.7.6"
  }
 },
 "nbformat": 4,
 "nbformat_minor": 5
}
