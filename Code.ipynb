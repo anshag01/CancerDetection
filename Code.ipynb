{
 "cells": [
  {
   "cell_type": "markdown",
   "source": [
    "This Jupyter notebook is responsible for running the cancer detection algorithm."
   ],
   "metadata": {
    "collapsed": false
   },
   "id": "1e80cfdb204fa594"
  },
  {
   "cell_type": "markdown",
   "source": [
    "# Data preprocessing"
   ],
   "metadata": {
    "collapsed": false
   },
   "id": "42262e1f2d369413"
  },
  {
   "cell_type": "code",
   "outputs": [
    {
     "name": "stdout",
     "output_type": "stream",
     "text": [
      "hello\n",
      "ok\n"
     ]
    }
   ],
   "source": [
    "# import methods as mt\n",
    "import importlib\n",
    "from methods import *"
   ],
   "metadata": {
    "collapsed": false,
    "ExecuteTime": {
     "end_time": "2024-03-29T17:29:45.512633Z",
     "start_time": "2024-03-29T17:29:45.494061Z"
    }
   },
   "id": "af667b5d6dce8715",
   "execution_count": 9
  },
  {
   "cell_type": "markdown",
   "source": [],
   "metadata": {
    "collapsed": false
   },
   "id": "a302a605a53a16b9"
  }
 ],
 "metadata": {
  "kernelspec": {
   "display_name": "Python 3",
   "language": "python",
   "name": "python3"
  },
  "language_info": {
   "codemirror_mode": {
    "name": "ipython",
    "version": 2
   },
   "file_extension": ".py",
   "mimetype": "text/x-python",
   "name": "python",
   "nbconvert_exporter": "python",
   "pygments_lexer": "ipython2",
   "version": "2.7.6"
  }
 },
 "nbformat": 4,
 "nbformat_minor": 5
}
