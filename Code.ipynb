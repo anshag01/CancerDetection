{
 "cells": [
  {
   "cell_type": "markdown",
   "source": [
    "This Jupyter notebook is responsible for running the cancer detection algorithm."
   ],
   "metadata": {
    "collapsed": false
   },
   "id": "1e80cfdb204fa594"
  },
  {
   "cell_type": "markdown",
   "source": [
    "# Data preprocessing"
   ],
   "metadata": {
    "collapsed": false
   },
   "id": "42262e1f2d369413"
  },
  {
   "cell_type": "code",
   "source": [
    "from methods import *\n",
    "import os\n",
    "\n",
    "original_folder_path =  './dataverse_files/HAM10000_images_part_1'\n",
    "processed_folder_path =  './preprocessed_images'"
   ],
   "metadata": {
    "collapsed": false,
    "ExecuteTime": {
     "end_time": "2024-04-12T07:14:55.769755Z",
     "start_time": "2024-04-12T07:14:55.043900Z"
    }
   },
   "id": "f9fe99f7c5b3fd80",
   "execution_count": 1,
   "outputs": []
  },
  {
   "cell_type": "markdown",
   "source": [
    "Now, we preprocess each image and add it to a folder."
   ],
   "metadata": {
    "collapsed": false
   },
   "id": "e6df0fb2cdda892d"
  },
  {
   "cell_type": "code",
   "source": [
    "for image_name in os.listdir(processed_folder_path):\n",
    "    full_image_path = os.path.join(processed_folder_path, image_name)\n",
    "    print(lbp_features(full_image_path, radius=1, n_points=8, method='uniform'))"
   ],
   "metadata": {
    "collapsed": false,
    "ExecuteTime": {
     "end_time": "2024-04-14T09:47:29.651008Z",
     "start_time": "2024-04-14T09:47:29.572033Z"
    }
   },
   "id": "c8265847a00be127",
   "execution_count": 1,
   "outputs": []
  },
  {
   "cell_type": "markdown",
   "source": [],
   "metadata": {
    "collapsed": false
   },
   "id": "b3d34e2daaa5181"
  },
  {
   "cell_type": "code",
   "source": [
    "if not os.path.exists(processed_folder_path):\n",
    "    os.makedirs(processed_folder_path)\n",
    "    \n",
    "for image_name in os.listdir(original_folder_path):\n",
    "    print(\"Processing\", image_name)\n",
    "    image_path = os.path.join(original_folder_path, image_name)\n",
    "    \n",
    "    if image_path.lower().endswith(('.png', '.jpg', '.jpeg', '.tiff', '.bmp', '.gif')):\n",
    "        processed_img = preprocess_image(image_path)\n",
    "        processed_image_path = os.path.join(processed_folder_path, image_name)\n",
    "        cv2.imwrite(processed_image_path, processed_img)"
   ],
   "metadata": {
    "collapsed": false
   },
   "id": "50c156e6c860ecdd",
   "execution_count": null,
   "outputs": []
  },
  {
   "cell_type": "code",
   "source": [
    "# dark_patch_shape = detect_dark_patch_shape('./dataverse_files/HAM10000_images_part_1/ISIC_0024306.jpg')\n",
    "# print(f\"Shape detected: {dark_patch_shape}\")\n",
    "# dark_patch_shape = detect_dark_patch_shape('./dataverse_files/HAM10000_images_part_1/ISIC_0024307.jpg')\n",
    "# print(f\"Shape detected: {dark_patch_shape}\")\n",
    "# dark_patch_shape = detect_dark_patch_shape('./dataverse_files/HAM10000_images_part_1/ISIC_0024308.jpg')\n",
    "# print(f\"Shape detected: {dark_patch_shape}\")\n",
    "# ark_patch_shape = detect_dark_patch_shape('./dataverse_files/HAM10000_images_part_1/ISIC_0024309.jpg')\n",
    "# print(f\"Shape detected: {dark_patch_shape}\")\n",
    "# ark_patch_shape = detect_dark_patch_shape('./dataverse_files/HAM10000_images_part_1/ISIC_0024309.jpg')\n",
    "# print(f\"Shape detected: {dark_patch_shape}\")"
   ],
   "metadata": {
    "collapsed": false,
    "ExecuteTime": {
     "start_time": "2024-04-09T15:06:34.970008Z"
    }
   },
   "id": "cf9cf4e87b365d88",
   "execution_count": null,
   "outputs": []
  },
  {
   "cell_type": "code",
   "source": [
    "for image_name in os.listdir(original_folder_path):\n",
    "    image_path = os.path.join(original_folder_path, image_name)\n",
    "    image = load_preprocess_image(image_path)\n",
    "    contours = extract_contours(image)\n",
    "    largest_contour = max(contours, key=cv2.contourArea)\n",
    "    shapes = classify_shapes(largest_contour)\n",
    "    print(image_path, shapes)"
   ],
   "metadata": {
    "collapsed": false
   },
   "id": "1c246b41a7d77c01",
   "execution_count": null,
   "outputs": []
  }
 ],
 "metadata": {
  "kernelspec": {
   "display_name": "Python 3",
   "language": "python",
   "name": "python3"
  },
  "language_info": {
   "codemirror_mode": {
    "name": "ipython",
    "version": 2
   },
   "file_extension": ".py",
   "mimetype": "text/x-python",
   "name": "python",
   "nbconvert_exporter": "python",
   "pygments_lexer": "ipython2",
   "version": "2.7.6"
  }
 },
 "nbformat": 4,
 "nbformat_minor": 5
}
