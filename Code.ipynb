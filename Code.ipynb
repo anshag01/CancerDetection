{
 "cells": [
  {
   "cell_type": "markdown",
   "id": "1e80cfdb204fa594",
   "metadata": {
    "collapsed": false
   },
   "source": [
    "This Jupyter notebook is responsible for running the cancer detection algorithm."
   ]
  },
  {
   "cell_type": "markdown",
   "id": "42262e1f2d369413",
   "metadata": {
    "collapsed": false
   },
   "source": [
    "# Data preprocessing"
   ]
  },
  {
   "cell_type": "code",
   "execution_count": null,
   "id": "f9fe99f7c5b3fd80",
   "metadata": {
    "ExecuteTime": {
     "end_time": "2024-04-12T07:14:55.769755Z",
     "start_time": "2024-04-12T07:14:55.043900Z"
    },
    "collapsed": false
   },
   "outputs": [],
   "source": [
    "from methods import *\n",
    "import os\n",
    "\n",
    "original_folder_path =  './dataverse_files/HAM10000_images_part_1'\n",
    "processed_folder_path =  './preprocessed_images'"
   ]
  },
  {
   "cell_type": "markdown",
   "id": "e6df0fb2cdda892d",
   "metadata": {
    "collapsed": false
   },
   "source": [
    "Now, we preprocess each image and add it to a folder."
   ]
  },
  {
   "cell_type": "code",
   "execution_count": null,
   "id": "c8265847a00be127",
   "metadata": {
    "ExecuteTime": {
     "end_time": "2024-04-12T07:14:57.344318Z",
     "start_time": "2024-04-12T07:14:57.285520Z"
    },
    "collapsed": false
   },
   "outputs": [],
   "source": [
    "for image_name in os.listdir(processed_folder_path):\n",
    "    full_image_path = os.path.join(processed_folder_path, image_name)\n",
    "    print(lbp_features(full_image_path, radius=1, n_points=8, method='uniform'))"
   ]
  },
  {
   "cell_type": "markdown",
   "id": "b3d34e2daaa5181",
   "metadata": {
    "collapsed": false
   },
   "source": []
  },
  {
   "cell_type": "code",
   "execution_count": null,
   "id": "50c156e6c860ecdd",
   "metadata": {
    "ExecuteTime": {
     "end_time": "2024-04-09T15:06:34.968800Z",
     "start_time": "2024-04-09T15:06:30.462661Z"
    },
    "collapsed": false
   },
   "outputs": [],
   "source": [
    "if not os.path.exists(processed_folder_path):\n",
    "    os.makedirs(processed_folder_path)\n",
    "    \n",
    "for image_name in os.listdir(original_folder_path):\n",
    "    print(\"Processing\", image_name)\n",
    "    image_path = os.path.join(original_folder_path, image_name)\n",
    "    \n",
    "    if image_path.lower().endswith(('.png', '.jpg', '.jpeg', '.tiff', '.bmp', '.gif')):\n",
    "        processed_img = preprocess_image(image_path)\n",
    "        processed_image_path = os.path.join(processed_folder_path, image_name)\n",
    "        cv2.imwrite(processed_image_path, processed_img)"
   ]
  },
  {
   "cell_type": "code",
   "execution_count": null,
   "id": "cf9cf4e87b365d88",
   "metadata": {
    "ExecuteTime": {
     "start_time": "2024-04-09T15:06:34.970008Z"
    },
    "collapsed": false
   },
   "outputs": [],
   "source": [
    "# dark_patch_shape = detect_dark_patch_shape('./dataverse_files/HAM10000_images_part_1/ISIC_0024306.jpg')\n",
    "# print(f\"Shape detected: {dark_patch_shape}\")\n",
    "# dark_patch_shape = detect_dark_patch_shape('./dataverse_files/HAM10000_images_part_1/ISIC_0024307.jpg')\n",
    "# print(f\"Shape detected: {dark_patch_shape}\")\n",
    "# dark_patch_shape = detect_dark_patch_shape('./dataverse_files/HAM10000_images_part_1/ISIC_0024308.jpg')\n",
    "# print(f\"Shape detected: {dark_patch_shape}\")\n",
    "# ark_patch_shape = detect_dark_patch_shape('./dataverse_files/HAM10000_images_part_1/ISIC_0024309.jpg')\n",
    "# print(f\"Shape detected: {dark_patch_shape}\")\n",
    "# ark_patch_shape = detect_dark_patch_shape('./dataverse_files/HAM10000_images_part_1/ISIC_0024309.jpg')\n",
    "# print(f\"Shape detected: {dark_patch_shape}\")"
   ]
  },
  {
   "cell_type": "code",
   "execution_count": null,
   "id": "1c246b41a7d77c01",
   "metadata": {
    "ExecuteTime": {
     "end_time": "2024-04-09T15:47:27.220046Z",
     "start_time": "2024-04-09T15:47:06.139221Z"
    },
    "collapsed": false
   },
   "outputs": [],
   "source": [
    "for image_name in os.listdir(original_folder_path):\n",
    "    image_path = os.path.join(original_folder_path, image_name)\n",
    "    image = load_preprocess_image(image_path)\n",
    "    contours = extract_contours(image)\n",
    "    largest_contour = max(contours, key=cv2.contourArea)\n",
    "    shapes = classify_shapes(largest_contour)\n",
    "    print(image_path, shapes)"
   ]
  }
 ],
 "metadata": {
  "kernelspec": {
   "display_name": "Python 3",
   "language": "python",
   "name": "python3"
  },
  "language_info": {
   "codemirror_mode": {
    "name": "ipython",
    "version": 2
   },
   "file_extension": ".py",
   "mimetype": "text/x-python",
   "name": "python",
   "nbconvert_exporter": "python",
   "pygments_lexer": "ipython2",
   "version": "2.7.6"
  }
 },
 "nbformat": 4,
 "nbformat_minor": 5
}
