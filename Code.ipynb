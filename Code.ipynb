{
 "cells": [
  {
   "cell_type": "markdown",
   "source": [
    "This Jupyter notebook is responsible for running the cancer detection algorithm."
   ],
   "metadata": {
    "collapsed": false
   },
   "id": "1e80cfdb204fa594"
  },
  {
   "cell_type": "markdown",
   "source": [
    "# Data preprocessing"
   ],
   "metadata": {
    "collapsed": false
   },
   "id": "42262e1f2d369413"
  },
  {
   "cell_type": "code",
   "outputs": [],
   "source": [
    "# import importlib\n",
    "from methods import *\n",
    "import os"
   ],
   "metadata": {
    "collapsed": false
   },
   "id": "f9fe99f7c5b3fd80"
  },
  {
   "cell_type": "markdown",
   "source": [
    "Now, we preprocess each image and add it to a folder."
   ],
   "metadata": {
    "collapsed": false
   },
   "id": "e6df0fb2cdda892d"
  },
  {
   "cell_type": "markdown",
   "source": [],
   "metadata": {
    "collapsed": false
   },
   "id": "b3d34e2daaa5181"
  },
  {
   "cell_type": "code",
   "outputs": [],
   "source": [
    "original_folder_path =  './dataverse_files/HAM10000_images_part_1'\n",
    "processed_folder_path =  './preprocessed_images'\n",
    "\n",
    "if not os.path.exists(processed_folder_path):\n",
    "    os.makedirs(processed_folder_path)\n",
    "    \n",
    "for image_name in os.listdir(original_folder_path):\n",
    "    print(\"Processing\", image_name)\n",
    "    image_path = os.path.join(original_folder_path, image_name)\n",
    "    \n",
    "    if image_path.lower().endswith(('.png', '.jpg', '.jpeg', '.tiff', '.bmp', '.gif')):\n",
    "        processed_img = preprocess_image(image_path)\n",
    "        processed_image_path = os.path.join(processed_folder_path, image_name)\n",
    "        cv2.imwrite(processed_image_path, processed_img)"
   ],
   "metadata": {
    "collapsed": false
   },
   "id": "50c156e6c860ecdd"
  }
 ],
 "metadata": {
  "kernelspec": {
   "display_name": "Python 3",
   "language": "python",
   "name": "python3"
  },
  "language_info": {
   "codemirror_mode": {
    "name": "ipython",
    "version": 2
   },
   "file_extension": ".py",
   "mimetype": "text/x-python",
   "name": "python",
   "nbconvert_exporter": "python",
   "pygments_lexer": "ipython2",
   "version": "2.7.6"
  }
 },
 "nbformat": 4,
 "nbformat_minor": 5
}
