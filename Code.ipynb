{
 "cells": [
  {
   "cell_type": "markdown",
   "source": [
    "This Jupyter notebook is responsible for running the cancer detection algorithm."
   ],
   "metadata": {
    "collapsed": false
   },
   "id": "1e80cfdb204fa594"
  },
  {
   "cell_type": "markdown",
   "source": [
    "# Data preprocessing"
   ],
   "metadata": {
    "collapsed": false
   },
   "id": "42262e1f2d369413"
  },
  {
   "cell_type": "code",
   "outputs": [],
   "source": [
    "# import importlib\n",
    "from methods import *\n",
    "import os"
   ],
   "metadata": {
    "collapsed": false,
    "ExecuteTime": {
     "end_time": "2024-04-09T14:41:41.148476Z",
     "start_time": "2024-04-09T14:41:40.197217Z"
    }
   },
   "id": "f9fe99f7c5b3fd80",
   "execution_count": 1
  },
  {
   "cell_type": "markdown",
   "source": [
    "Now, we preprocess each image and add it to a folder."
   ],
   "metadata": {
    "collapsed": false
   },
   "id": "e6df0fb2cdda892d"
  },
  {
   "cell_type": "markdown",
   "source": [],
   "metadata": {
    "collapsed": false
   },
   "id": "b3d34e2daaa5181"
  },
  {
   "cell_type": "code",
   "outputs": [
    {
     "name": "stdout",
     "output_type": "stream",
     "text": [
      "Processing ISIC_0024306.jpg\n",
      "Processing ISIC_0024307.jpg\n",
      "Processing ISIC_0024308.jpg\n",
      "Processing ISIC_0024309.jpg\n",
      "Processing ISIC_0024310.jpg\n",
      "Processing ISIC_0024311.jpg\n",
      "Processing ISIC_0024312.jpg\n",
      "Processing ISIC_0024313.jpg\n",
      "Processing ISIC_0024314.jpg\n",
      "Processing ISIC_0024315.jpg\n",
      "Processing ISIC_0024316.jpg\n",
      "Processing ISIC_0024317.jpg\n",
      "Processing ISIC_0024318.jpg\n",
      "Processing ISIC_0024319.jpg\n",
      "Processing ISIC_0024320.jpg\n",
      "Processing ISIC_0024321.jpg\n",
      "Processing ISIC_0024322.jpg\n",
      "Processing ISIC_0024323.jpg\n",
      "Processing ISIC_0024324.jpg\n",
      "Processing ISIC_0024325.jpg\n",
      "Processing ISIC_0024326.jpg\n",
      "Processing ISIC_0024327.jpg\n",
      "Processing ISIC_0024328.jpg\n",
      "Processing ISIC_0024329.jpg\n",
      "Processing ISIC_0024330.jpg\n",
      "Processing ISIC_0024331.jpg\n",
      "Processing ISIC_0024332.jpg\n",
      "Processing ISIC_0024333.jpg\n",
      "Processing ISIC_0024334.jpg\n",
      "Processing ISIC_0024335.jpg\n",
      "Processing ISIC_0024336.jpg\n",
      "Processing ISIC_0024337.jpg\n",
      "Processing ISIC_0024338.jpg\n",
      "Processing ISIC_0024339.jpg\n",
      "Processing ISIC_0024340.jpg\n",
      "Processing ISIC_0024341.jpg\n",
      "Processing ISIC_0024342.jpg\n",
      "Processing ISIC_0024343.jpg\n",
      "Processing ISIC_0024344.jpg\n",
      "Processing ISIC_0024345.jpg\n",
      "Processing ISIC_0024346.jpg\n",
      "Processing ISIC_0024347.jpg\n",
      "Processing ISIC_0024348.jpg\n",
      "Processing ISIC_0024349.jpg\n",
      "Processing ISIC_0024350.jpg\n",
      "Processing ISIC_0024351.jpg\n",
      "Processing ISIC_0024352.jpg\n",
      "Processing ISIC_0024353.jpg\n",
      "Processing ISIC_0024354.jpg\n",
      "Processing ISIC_0024355.jpg\n",
      "Processing ISIC_0024356.jpg\n",
      "Processing ISIC_0024357.jpg\n",
      "Processing ISIC_0024358.jpg\n",
      "Processing ISIC_0024359.jpg\n",
      "Processing ISIC_0024360.jpg\n",
      "Processing ISIC_0024361.jpg\n",
      "Processing ISIC_0024362.jpg\n",
      "Processing ISIC_0024363.jpg\n",
      "Processing ISIC_0024364.jpg\n",
      "Processing ISIC_0024365.jpg\n",
      "Processing ISIC_0024366.jpg\n",
      "Processing ISIC_0024367.jpg\n",
      "Processing ISIC_0024368.jpg\n",
      "Processing ISIC_0024369.jpg\n",
      "Processing ISIC_0024370.jpg\n",
      "Processing ISIC_0024371.jpg\n",
      "Processing ISIC_0024372.jpg\n",
      "Processing ISIC_0024373.jpg\n",
      "Processing ISIC_0024374.jpg\n",
      "Processing ISIC_0024375.jpg\n",
      "Processing ISIC_0024376.jpg\n",
      "Processing ISIC_0024377.jpg\n",
      "Processing ISIC_0024378.jpg\n",
      "Processing ISIC_0024379.jpg\n",
      "Processing ISIC_0024380.jpg\n",
      "Processing ISIC_0024381.jpg\n"
     ]
    },
    {
     "ename": "KeyboardInterrupt",
     "evalue": "",
     "output_type": "error",
     "traceback": [
      "\u001B[1;31m---------------------------------------------------------------------------\u001B[0m",
      "\u001B[1;31mKeyboardInterrupt\u001B[0m                         Traceback (most recent call last)",
      "\u001B[1;32m<ipython-input-2-bec263e40036>\u001B[0m in \u001B[0;36m<module>\u001B[1;34m\u001B[0m\n\u001B[0;32m     10\u001B[0m \u001B[1;33m\u001B[0m\u001B[0m\n\u001B[0;32m     11\u001B[0m     \u001B[1;32mif\u001B[0m \u001B[0mimage_path\u001B[0m\u001B[1;33m.\u001B[0m\u001B[0mlower\u001B[0m\u001B[1;33m(\u001B[0m\u001B[1;33m)\u001B[0m\u001B[1;33m.\u001B[0m\u001B[0mendswith\u001B[0m\u001B[1;33m(\u001B[0m\u001B[1;33m(\u001B[0m\u001B[1;34m'.png'\u001B[0m\u001B[1;33m,\u001B[0m \u001B[1;34m'.jpg'\u001B[0m\u001B[1;33m,\u001B[0m \u001B[1;34m'.jpeg'\u001B[0m\u001B[1;33m,\u001B[0m \u001B[1;34m'.tiff'\u001B[0m\u001B[1;33m,\u001B[0m \u001B[1;34m'.bmp'\u001B[0m\u001B[1;33m,\u001B[0m \u001B[1;34m'.gif'\u001B[0m\u001B[1;33m)\u001B[0m\u001B[1;33m)\u001B[0m\u001B[1;33m:\u001B[0m\u001B[1;33m\u001B[0m\u001B[1;33m\u001B[0m\u001B[0m\n\u001B[1;32m---> 12\u001B[1;33m         \u001B[0mprocessed_img\u001B[0m \u001B[1;33m=\u001B[0m \u001B[0mpreprocess_image\u001B[0m\u001B[1;33m(\u001B[0m\u001B[0mimage_path\u001B[0m\u001B[1;33m)\u001B[0m\u001B[1;33m\u001B[0m\u001B[1;33m\u001B[0m\u001B[0m\n\u001B[0m\u001B[0;32m     13\u001B[0m         \u001B[0mprocessed_image_path\u001B[0m \u001B[1;33m=\u001B[0m \u001B[0mos\u001B[0m\u001B[1;33m.\u001B[0m\u001B[0mpath\u001B[0m\u001B[1;33m.\u001B[0m\u001B[0mjoin\u001B[0m\u001B[1;33m(\u001B[0m\u001B[0mprocessed_folder_path\u001B[0m\u001B[1;33m,\u001B[0m \u001B[0mimage_name\u001B[0m\u001B[1;33m)\u001B[0m\u001B[1;33m\u001B[0m\u001B[1;33m\u001B[0m\u001B[0m\n\u001B[0;32m     14\u001B[0m         \u001B[0mcv2\u001B[0m\u001B[1;33m.\u001B[0m\u001B[0mimwrite\u001B[0m\u001B[1;33m(\u001B[0m\u001B[0mprocessed_image_path\u001B[0m\u001B[1;33m,\u001B[0m \u001B[0mprocessed_img\u001B[0m\u001B[1;33m)\u001B[0m\u001B[1;33m\u001B[0m\u001B[1;33m\u001B[0m\u001B[0m\n",
      "\u001B[1;32m~\\CancerDetection\\methods.py\u001B[0m in \u001B[0;36mpreprocess_image\u001B[1;34m(image_path)\u001B[0m\n\u001B[0;32m      8\u001B[0m \u001B[1;33m\u001B[0m\u001B[0m\n\u001B[0;32m      9\u001B[0m \u001B[1;32mdef\u001B[0m \u001B[0mpreprocess_image\u001B[0m\u001B[1;33m(\u001B[0m\u001B[0mimage_path\u001B[0m\u001B[1;33m)\u001B[0m\u001B[1;33m:\u001B[0m\u001B[1;33m\u001B[0m\u001B[1;33m\u001B[0m\u001B[0m\n\u001B[1;32m---> 10\u001B[1;33m     \u001B[0mimg\u001B[0m \u001B[1;33m=\u001B[0m \u001B[0mcv2\u001B[0m\u001B[1;33m.\u001B[0m\u001B[0mimread\u001B[0m\u001B[1;33m(\u001B[0m\u001B[0mimage_path\u001B[0m\u001B[1;33m)\u001B[0m\u001B[1;33m\u001B[0m\u001B[1;33m\u001B[0m\u001B[0m\n\u001B[0m\u001B[0;32m     11\u001B[0m     \u001B[0mgray_img\u001B[0m \u001B[1;33m=\u001B[0m \u001B[0mcv2\u001B[0m\u001B[1;33m.\u001B[0m\u001B[0mcvtColor\u001B[0m\u001B[1;33m(\u001B[0m\u001B[0mimg\u001B[0m\u001B[1;33m,\u001B[0m \u001B[0mcv2\u001B[0m\u001B[1;33m.\u001B[0m\u001B[0mCOLOR_BGR2GRAY\u001B[0m\u001B[1;33m)\u001B[0m\u001B[1;33m\u001B[0m\u001B[1;33m\u001B[0m\u001B[0m\n\u001B[0;32m     12\u001B[0m     \u001B[0mresized_img\u001B[0m \u001B[1;33m=\u001B[0m \u001B[0mcv2\u001B[0m\u001B[1;33m.\u001B[0m\u001B[0mresize\u001B[0m\u001B[1;33m(\u001B[0m\u001B[0mgray_img\u001B[0m\u001B[1;33m,\u001B[0m \u001B[1;33m(\u001B[0m\u001B[1;36m600\u001B[0m\u001B[1;33m,\u001B[0m \u001B[1;36m450\u001B[0m\u001B[1;33m)\u001B[0m\u001B[1;33m)\u001B[0m\u001B[1;33m\u001B[0m\u001B[1;33m\u001B[0m\u001B[0m\n",
      "\u001B[1;31mKeyboardInterrupt\u001B[0m: "
     ]
    }
   ],
   "source": [
    "original_folder_path =  './dataverse_files/HAM10000_images_part_1'\n",
    "processed_folder_path =  './preprocessed_images'\n",
    "\n",
    "if not os.path.exists(processed_folder_path):\n",
    "    os.makedirs(processed_folder_path)\n",
    "    \n",
    "for image_name in os.listdir(original_folder_path):\n",
    "    print(\"Processing\", image_name)\n",
    "    image_path = os.path.join(original_folder_path, image_name)\n",
    "    \n",
    "    if image_path.lower().endswith(('.png', '.jpg', '.jpeg', '.tiff', '.bmp', '.gif')):\n",
    "        processed_img = preprocess_image(image_path)\n",
    "        processed_image_path = os.path.join(processed_folder_path, image_name)\n",
    "        cv2.imwrite(processed_image_path, processed_img)"
   ],
   "metadata": {
    "collapsed": false,
    "ExecuteTime": {
     "end_time": "2024-04-09T12:54:28.114647Z",
     "start_time": "2024-04-09T12:54:26.804101Z"
    }
   },
   "id": "50c156e6c860ecdd",
   "execution_count": 2
  },
  {
   "cell_type": "code",
   "outputs": [],
   "source": [
    "# dark_patch_shape = detect_dark_patch_shape('./dataverse_files/HAM10000_images_part_1/ISIC_0024306.jpg')\n",
    "# print(f\"Shape detected: {dark_patch_shape}\")\n",
    "# dark_patch_shape = detect_dark_patch_shape('./dataverse_files/HAM10000_images_part_1/ISIC_0024307.jpg')\n",
    "# print(f\"Shape detected: {dark_patch_shape}\")\n",
    "# dark_patch_shape = detect_dark_patch_shape('./dataverse_files/HAM10000_images_part_1/ISIC_0024308.jpg')\n",
    "# print(f\"Shape detected: {dark_patch_shape}\")\n",
    "# ark_patch_shape = detect_dark_patch_shape('./dataverse_files/HAM10000_images_part_1/ISIC_0024309.jpg')\n",
    "# print(f\"Shape detected: {dark_patch_shape}\")\n",
    "# ark_patch_shape = detect_dark_patch_shape('./dataverse_files/HAM10000_images_part_1/ISIC_0024309.jpg')\n",
    "# print(f\"Shape detected: {dark_patch_shape}\")"
   ],
   "metadata": {
    "collapsed": false
   },
   "id": "cf9cf4e87b365d88",
   "execution_count": null
  },
  {
   "cell_type": "code",
   "outputs": [
    {
     "name": "stdout",
     "output_type": "stream",
     "text": [
      "['irregular']\n"
     ]
    }
   ],
   "source": [
    "thresh = load_preprocess_image('./dataverse_files/HAM10000_images_part_1/ISIC_0024306.jpg')\n",
    "contours = extract_contours(thresh)\n",
    "largest_contour = max(contours, key=cv2.contourArea)\n",
    "shapes = classify_shapes([largest_contour])\n",
    "print(shapes)"
   ],
   "metadata": {
    "collapsed": false,
    "ExecuteTime": {
     "end_time": "2024-04-09T14:50:15.173785Z",
     "start_time": "2024-04-09T14:50:15.160021Z"
    }
   },
   "id": "1c246b41a7d77c01",
   "execution_count": 16
  }
 ],
 "metadata": {
  "kernelspec": {
   "display_name": "Python 3",
   "language": "python",
   "name": "python3"
  },
  "language_info": {
   "codemirror_mode": {
    "name": "ipython",
    "version": 2
   },
   "file_extension": ".py",
   "mimetype": "text/x-python",
   "name": "python",
   "nbconvert_exporter": "python",
   "pygments_lexer": "ipython2",
   "version": "2.7.6"
  }
 },
 "nbformat": 4,
 "nbformat_minor": 5
}
