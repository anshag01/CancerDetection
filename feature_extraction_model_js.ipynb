{
 "cells": [
  {
   "attachments": {},
   "cell_type": "markdown",
   "metadata": {},
   "source": "# Feature Extraction and Modeling"
  },
  {
   "metadata": {},
   "cell_type": "markdown",
   "source": "# General Setup"
  },
  {
   "cell_type": "code",
   "metadata": {},
   "source": [
    "import pandas as pd\n",
    "import matplotlib.pyplot as plt\n",
    "import numpy as np\n",
    "import torch\n",
    "import torchvision.transforms as transforms\n",
    "\n",
    "# import torchvision.models as models\n",
    "from torchvision.models import resnet50, ResNet50_Weights\n",
    "\n",
    "from torch.utils.data import DataLoader\n",
    "import os\n",
    "import sklearn.model_selection as model_selection\n",
    "import sklearn.linear_model as linear_model\n",
    "import subprocess\n",
    "from tqdm import tqdm\n",
    "\n",
    "from sklearn.decomposition import PCA\n",
    "from sklearn.metrics import (\n",
    "    accuracy_score,\n",
    "    confusion_matrix,\n",
    "    ConfusionMatrixDisplay,\n",
    "    precision_score,\n",
    "    f1_score,\n",
    "    recall_score,\n",
    ")\n",
    "\n",
    "from methods import get_labels\n",
    "from methods_feature_extraction_model import (\n",
    "    ImageDataset,\n",
    "    merge_features_with_labels,\n",
    "    not_oversampled_images,\n",
    "    calculate_test_size,\n",
    ")\n",
    "\n",
    "\n",
    "%load_ext autoreload\n",
    "%autoreload 2"
   ],
   "outputs": [],
   "execution_count": null
  },
  {
   "attachments": {},
   "cell_type": "markdown",
   "metadata": {},
   "source": ""
  },
  {
   "cell_type": "code",
   "metadata": {},
   "source": [
    "# load repo and\n",
    "repo_dir = (\n",
    "    subprocess.Popen([\"git\", \"rev-parse\", \"--show-toplevel\"], stdout=subprocess.PIPE)\n",
    "    .communicate()[0]\n",
    "    .rstrip()\n",
    "    .decode(\"utf-8\")\n",
    ")\n",
    "# original_folder_path = os.path.join(repo_dir, \"dataverse_files/HAM10000_images_part_1\")\n",
    "# original_folder_path =  os.path.join(repo_dir, 'dataverse_files/HAM10000_images_part_1_2')\n",
    "original_folder_path = os.path.join(repo_dir, \"dataverse_files/JS_Selection\")\n",
    "\n",
    "processed_folder_path = os.path.join(repo_dir, \"preprocessed_images\")\n",
    "features_folder_path = os.path.join(repo_dir, \"features_extracted\")\n",
    "\n",
    "os.makedirs(processed_folder_path, exist_ok=True)\n",
    "os.makedirs(features_folder_path, exist_ok=True)\n",
    "\n",
    "data_folder_path = original_folder_path\n",
    "\n",
    "label = get_labels(repo_dir)"
   ],
   "outputs": [],
   "execution_count": null
  },
  {
   "metadata": {},
   "cell_type": "markdown",
   "source": "# Feature Extraction"
  },
  {
   "metadata": {},
   "cell_type": "markdown",
   "source": "## Feature Exctraction using ResNet50 (CNN)"
  },
  {
   "metadata": {},
   "cell_type": "code",
   "source": [
    "# Using the RestNet 50 model to extract features using pretrained weights\n",
    "model = resnet50(weights=ResNet50_Weights.DEFAULT)"
   ],
   "outputs": [],
   "execution_count": null
  },
  {
   "cell_type": "code",
   "metadata": {},
   "source": [
    "transform = transforms.Compose(\n",
    "    [\n",
    "        transforms.Resize(232),\n",
    "        transforms.CenterCrop(450),  # adapted to use larger region\n",
    "        transforms.ToTensor(),\n",
    "        transforms.Normalize(mean=[0.485, 0.456, 0.406], std=[0.229, 0.224, 0.225]),\n",
    "    ]\n",
    ")\n",
    "dataset = ImageDataset(directory=data_folder_path, transform=transform)\n",
    "data_loader = DataLoader(dataset, batch_size=16, shuffle=False, num_workers=0)"
   ],
   "outputs": [],
   "execution_count": null
  },
  {
   "cell_type": "code",
   "metadata": {},
   "source": [
    "# Determine the best available device\n",
    "if torch.cuda.is_available():\n",
    "    device = \"cuda\"\n",
    "elif torch.backends.mps.is_available():\n",
    "    device = \"mps\"\n",
    "else:\n",
    "    device = \"cpu\"\n",
    "print(f\"Using device: {device}\")"
   ],
   "outputs": [],
   "execution_count": null
  },
  {
   "cell_type": "code",
   "metadata": {},
   "source": [
    "model = model.to(device)  # Move your model to the appropriate device\n",
    "model.eval()  # Set the model to evaluation mode\n",
    "\n",
    "features_map2 = {}\n",
    "with torch.no_grad():\n",
    "    for batch_idx, (key, images) in enumerate(tqdm(data_loader)):\n",
    "        images = images.to(device)  # Move images to the appropriate device\n",
    "\n",
    "        batch_features = model(images)\n",
    "        batch_features = batch_features.view(\n",
    "            batch_features.size(0), -1\n",
    "        )  # Flatten features\n",
    "\n",
    "        batch_features = (\n",
    "            batch_features.cpu().numpy()\n",
    "        )  # Move features to CPU for numpy conversion\n",
    "\n",
    "        for i, feature in enumerate(batch_features):\n",
    "            image_id = (\n",
    "                batch_idx * data_loader.batch_size + i\n",
    "            )  # Compute global image ID/index\n",
    "            features_map2[key[i]] = feature"
   ],
   "outputs": [],
   "execution_count": null
  },
  {
   "cell_type": "code",
   "metadata": {},
   "source": [
    "# Saving the raw features\n",
    "features_df = pd.DataFrame(features_map2)\n",
    "cnn_features_path = os.path.join(features_folder_path, \"features.json\")\n",
    "features_df.to_json(cnn_features_path)"
   ],
   "outputs": [],
   "execution_count": null
  },
  {
   "metadata": {},
   "cell_type": "code",
   "source": [
    "# combine the features with labels dataframe\n",
    "cnn_features = merge_features_with_labels(\n",
    "    data_folder_path=data_folder_path,\n",
    "    features_path=cnn_features_path,\n",
    "    labels_df=label,\n",
    "    export=True,\n",
    ")\n",
    "cnn_features"
   ],
   "outputs": [],
   "execution_count": null
  },
  {
   "cell_type": "markdown",
   "metadata": {},
   "source": "# Modeling"
  },
  {
   "metadata": {},
   "cell_type": "markdown",
   "source": "## Generate the Train and Test Split"
  },
  {
   "cell_type": "code",
   "metadata": {},
   "source": [
    "# only include those files in testing that have not been oversampled\n",
    "include_in_testing = not_oversampled_images(cnn_features)"
   ],
   "outputs": [],
   "execution_count": null
  },
  {
   "cell_type": "code",
   "metadata": {},
   "source": [
    "x = cnn_features.iloc[:, :1000].to_numpy()\n",
    "y = cnn_features[\"cancer\"].to_numpy()\n",
    "TEST_SIZE = 0.30\n",
    "\n",
    "# Calculate the adjusted test size\n",
    "test_size_sklearn = calculate_test_size(cnn_features, TEST_SIZE, include_in_testing)\n",
    "\n",
    "x_train_, x_test, y_train_, y_test = model_selection.train_test_split(\n",
    "    x[include_in_testing], y[include_in_testing], test_size=test_size_sklearn\n",
    ")\n",
    "x_train = np.concatenate((x_train_, x[np.invert(include_in_testing)]), axis=0)\n",
    "y_train = np.concatenate((y_train_, y[np.invert(include_in_testing)]), axis=0)"
   ],
   "outputs": [],
   "execution_count": null
  },
  {
   "metadata": {},
   "cell_type": "code",
   "source": [
    "np.shape(x_train), np.shape(y_train), np.shape(x_test), np.shape(y_test), len(\n",
    "    x_test\n",
    ") / len(x), len(np.unique(cnn_features.image_id))"
   ],
   "outputs": [],
   "execution_count": null
  },
  {
   "metadata": {},
   "cell_type": "markdown",
   "source": "## PCA"
  },
  {
   "cell_type": "code",
   "metadata": {},
   "source": [
    "# Initialize PCA,\n",
    "pca = PCA(n_components=0.9)\n",
    "\n",
    "# Fit and transform the data\n",
    "pca.fit(np.concatenate((x_train, x_test), axis=0))\n",
    "x_train_pca = pca.transform(x_train)\n",
    "x_test_pca = pca.transform(x_test)\n",
    "\n",
    "# Check the new shape of the data\n",
    "print(x_train_pca.shape)"
   ],
   "outputs": [],
   "execution_count": null
  },
  {
   "cell_type": "code",
   "metadata": {},
   "source": [
    "# Scatter plot of the first two PCA components\n",
    "# Here, X_pca[:, 0] is the first component, X_pca[:, 1] is the second component\n",
    "plt.figure(figsize=(10, 7))\n",
    "plt.scatter(\n",
    "    x_train_pca[y_train == 0, 0],\n",
    "    x_train_pca[y_train == 0, 1],\n",
    "    c=\"blue\",\n",
    "    label=\"Non-Cancerous\",\n",
    "    alpha=0.5,\n",
    ")  # Non-cancerous in blue\n",
    "plt.scatter(\n",
    "    x_train_pca[y_train == 1, 0],\n",
    "    x_train_pca[y_train == 1, 1],\n",
    "    c=\"red\",\n",
    "    label=\"Cancerous\",\n",
    "    alpha=0.5,\n",
    ")  # Cancerous labeled in red\n",
    "\n",
    "# Adding labels and title\n",
    "plt.xlabel(\"Principal Component 1\")\n",
    "plt.ylabel(\"Principal Component 2\")\n",
    "plt.title(\"PCA of Image Data\")\n",
    "plt.legend()"
   ],
   "outputs": [],
   "execution_count": null
  },
  {
   "metadata": {},
   "cell_type": "markdown",
   "source": "## LogisticRegression"
  },
  {
   "cell_type": "code",
   "metadata": {},
   "source": [
    "print(\"starting model\")\n",
    "prediction_model = linear_model.LogisticRegression(\n",
    "    solver=\"newton-cg\", multi_class=\"auto\", max_iter=5000, class_weight=None\n",
    ")\n",
    "print(\"starting fitting\")\n",
    "# prediction_model.fit(x_train, y_train)\n",
    "prediction_model.fit(x_train_pca, y_train)\n",
    "\n",
    "# y_pred = prediction_model.predict(x_test)\n",
    "y_pred = prediction_model.predict(x_test_pca)"
   ],
   "outputs": [],
   "execution_count": null
  },
  {
   "metadata": {},
   "cell_type": "markdown",
   "source": "## Evaluation"
  },
  {
   "cell_type": "code",
   "metadata": {},
   "source": [
    "conf_matrix = confusion_matrix(y_test, y_pred)\n",
    "\n",
    "# Initialize the ConfusionMatrixDisplay object with the confusion matrix\n",
    "cmd = ConfusionMatrixDisplay(conf_matrix)\n",
    "\n",
    "# Plot the confusion matrix\n",
    "cmd.plot(\n",
    "    cmap=plt.cm.Blues\n",
    ")  # You can choose other color maps like 'viridis', 'plasma', etc.\n",
    "plt.title(\"Confusion Matrix\")\n",
    "plt.show()"
   ],
   "outputs": [],
   "execution_count": null
  },
  {
   "cell_type": "code",
   "metadata": {},
   "source": [
    "accuracy = accuracy_score(y_test, y_pred)\n",
    "precision = precision_score(y_test, y_pred, pos_label=1)\n",
    "recall = recall_score(y_test, y_pred, pos_label=1)\n",
    "f1 = f1_score(y_test, y_pred, pos_label=1)\n",
    "\n",
    "print(f\"Accuracy: {accuracy}\")\n",
    "print(f\"Precision: {precision}\")\n",
    "print(f\"Recall: {recall}\")\n",
    "print(f\"F1 Score: {f1}\")"
   ],
   "outputs": [],
   "execution_count": null
  }
 ],
 "metadata": {
  "kernelspec": {
   "display_name": "base",
   "language": "python",
   "name": "python3"
  },
  "language_info": {
   "codemirror_mode": {
    "name": "ipython",
    "version": 3
   },
   "file_extension": ".py",
   "mimetype": "text/x-python",
   "name": "python",
   "nbconvert_exporter": "python",
   "pygments_lexer": "ipython3",
   "version": "3.11.5"
  },
  "orig_nbformat": 4
 },
 "nbformat": 4,
 "nbformat_minor": 2
}
