{
 "cells": [
  {
   "attachments": {},
   "cell_type": "markdown",
   "metadata": {},
   "source": "# Feature Extraction and Modeling"
  },
  {
   "metadata": {},
   "cell_type": "markdown",
   "source": "# General Setup"
  },
  {
   "cell_type": "code",
   "metadata": {},
   "source": [
    "import pandas as pd\n",
    "import matplotlib.pyplot as plt\n",
    "import numpy as np\n",
    "import torch\n",
    "import torchvision.transforms as transforms\n",
    "\n",
    "# import torchvision.models as models\n",
    "from torchvision.models import resnet50, ResNet50_Weights\n",
    "\n",
    "from torch.utils.data import DataLoader\n",
    "import os\n",
    "import sklearn.model_selection as model_selection\n",
    "import sklearn.linear_model as linear_model\n",
    "import subprocess\n",
    "from tqdm import tqdm\n",
    "\n",
    "from sklearn.decomposition import PCA, KernelPCA\n",
    "from sklearn.metrics import (\n",
    "    accuracy_score,\n",
    "    confusion_matrix,\n",
    "    ConfusionMatrixDisplay,\n",
    "    precision_score,\n",
    "    f1_score,\n",
    "    recall_score,\n",
    ")\n",
    "\n",
    "from methods import get_labels\n",
    "from methods_feature_extraction_model import (\n",
    "    ImageDataset,\n",
    "    merge_features_with_labels,\n",
    "    not_oversampled_images,\n",
    "    calculate_test_size,\n",
    "    calculate_metrics,\n",
    "    plot_confusion_matrix,\n",
    "    plot_low_dim_components\n",
    ")\n",
    "\n",
    "from sklearn.preprocessing import StandardScaler\n",
    "from sklearn import svm\n",
    "\n",
    "import numpy as np\n",
    "import matplotlib.pyplot as plt\n",
    "from sklearn import datasets\n",
    "from sklearn.manifold import TSNE\n",
    "import shap\n",
    "\n",
    "\n",
    "\n",
    "%load_ext autoreload\n",
    "%autoreload 2"
   ],
   "outputs": [],
   "execution_count": null
  },
  {
   "attachments": {},
   "cell_type": "markdown",
   "metadata": {},
   "source": ""
  },
  {
   "cell_type": "code",
   "metadata": {},
   "source": [
    "# load repo and\n",
    "repo_dir = (\n",
    "    subprocess.Popen([\"git\", \"rev-parse\", \"--show-toplevel\"], stdout=subprocess.PIPE)\n",
    "    .communicate()[0]\n",
    "    .rstrip()\n",
    "    .decode(\"utf-8\")\n",
    ")\n",
    "# original_folder_path = os.path.join(repo_dir, \"dataverse_files/HAM10000_images_part_1\")\n",
    "# original_folder_path =  os.path.join(repo_dir, 'dataverse_files/HAM10000_images_part_1_2')\n",
    "original_folder_path = os.path.join(repo_dir, \"dataverse_files/JS_Selection\")\n",
    "\n",
    "processed_folder_path = os.path.join(repo_dir, \"preprocessed_images\")\n",
    "features_folder_path = os.path.join(repo_dir, \"features_extracted\")\n",
    "\n",
    "os.makedirs(processed_folder_path, exist_ok=True)\n",
    "os.makedirs(features_folder_path, exist_ok=True)\n",
    "\n",
    "data_folder_path = original_folder_path\n",
    "\n",
    "label = get_labels(repo_dir)"
   ],
   "outputs": [],
   "execution_count": null
  },
  {
   "metadata": {},
   "cell_type": "markdown",
   "source": "# Feature Extraction"
  },
  {
   "metadata": {},
   "cell_type": "markdown",
   "source": "## Feature Exctraction using ResNet50 (CNN)"
  },
  {
   "metadata": {},
   "cell_type": "code",
   "source": [
    "# Using the RestNet 50 model to extract features using pretrained weights\n",
    "model = resnet50(weights=ResNet50_Weights.DEFAULT)"
   ],
   "outputs": [],
   "execution_count": null
  },
  {
   "cell_type": "code",
   "metadata": {},
   "source": [
    "transform = transforms.Compose(\n",
    "    [\n",
    "        transforms.Resize(232),\n",
    "        transforms.CenterCrop(450),  # adapted to use larger region\n",
    "        transforms.ToTensor(),\n",
    "        transforms.Normalize(mean=[0.485, 0.456, 0.406], std=[0.229, 0.224, 0.225]),\n",
    "    ]\n",
    ")\n",
    "dataset = ImageDataset(directory=data_folder_path, transform=transform)\n",
    "data_loader = DataLoader(dataset, batch_size=16, shuffle=False, num_workers=0)"
   ],
   "outputs": [],
   "execution_count": null
  },
  {
   "cell_type": "code",
   "metadata": {},
   "source": [
    "# Determine the best available device\n",
    "if torch.cuda.is_available():\n",
    "    device = \"cuda\"\n",
    "elif torch.backends.mps.is_available():\n",
    "    device = \"mps\"\n",
    "else:\n",
    "    device = \"cpu\"\n",
    "print(f\"Using device: {device}\")"
   ],
   "outputs": [],
   "execution_count": null
  },
  {
   "cell_type": "code",
   "metadata": {},
   "source": [
    "model = model.to(device)  # Move your model to the appropriate device\n",
    "model.eval()  # Set the model to evaluation mode\n",
    "\n",
    "features_map2 = {}\n",
    "with torch.no_grad():\n",
    "    for batch_idx, (key, images) in enumerate(tqdm(data_loader)):\n",
    "        images = images.to(device)  # Move images to the appropriate device\n",
    "\n",
    "        batch_features = model(images)\n",
    "        batch_features = batch_features.view(\n",
    "            batch_features.size(0), -1\n",
    "        )  # Flatten features\n",
    "\n",
    "        batch_features = (\n",
    "            batch_features.cpu().numpy()\n",
    "        )  # Move features to CPU for numpy conversion\n",
    "\n",
    "        for i, feature in enumerate(batch_features):\n",
    "            image_id = (\n",
    "                batch_idx * data_loader.batch_size + i\n",
    "            )  # Compute global image ID/index\n",
    "            features_map2[key[i]] = feature"
   ],
   "outputs": [],
   "execution_count": null
  },
  {
   "cell_type": "code",
   "metadata": {},
   "source": [
    "# Saving the raw features\n",
    "features_df = pd.DataFrame(features_map2)\n",
    "cnn_features_path = os.path.join(features_folder_path, \"features.json\")\n",
    "features_df.to_json(cnn_features_path)"
   ],
   "outputs": [],
   "execution_count": null
  },
  {
   "metadata": {},
   "cell_type": "markdown",
   "source": "## Load Features (also previously generated)"
  },
  {
   "metadata": {},
   "cell_type": "code",
   "source": [
    "# load features + combine the features with labels dataframe\n",
    "features_path = os.path.join(features_folder_path, \"features_js_10k_rotated.json\")\n",
    "cnn_features = merge_features_with_labels(\n",
    "    features_path=features_path,\n",
    "    labels_df=label,\n",
    "    export=True,\n",
    ")\n",
    "cnn_features"
   ],
   "outputs": [],
   "execution_count": null
  },
  {
   "cell_type": "markdown",
   "metadata": {},
   "source": "# Modeling"
  },
  {
   "metadata": {},
   "cell_type": "markdown",
   "source": "## Generate the Train and Test Split"
  },
  {
   "cell_type": "code",
   "metadata": {},
   "source": [
    "# only include those files in testing that have not been oversampled\n",
    "include_in_testing = not_oversampled_images(cnn_features)"
   ],
   "outputs": [],
   "execution_count": null
  },
  {
   "cell_type": "code",
   "metadata": {},
   "source": [
    "x = cnn_features.iloc[:, :1000].to_numpy()\n",
    "y = cnn_features[\"cancer\"].to_numpy()\n",
    "TEST_SIZE = 0.30\n",
    "\n",
    "# Calculate the adjusted test size\n",
    "test_size_sklearn = calculate_test_size(cnn_features, TEST_SIZE, include_in_testing)\n",
    "\n",
    "x_train_, x_test, y_train_, y_test = model_selection.train_test_split(\n",
    "    x[include_in_testing], y[include_in_testing], test_size=test_size_sklearn\n",
    ")\n",
    "x_train = np.concatenate((x_train_, x[np.invert(include_in_testing)]), axis=0)\n",
    "y_train = np.concatenate((y_train_, y[np.invert(include_in_testing)]), axis=0)"
   ],
   "outputs": [],
   "execution_count": null
  },
  {
   "metadata": {},
   "cell_type": "code",
   "source": [
    "np.shape(x_train), np.shape(y_train), np.shape(x_test), np.shape(y_test), len(\n",
    "    x_test\n",
    ") / len(x), len(np.unique(cnn_features.image_id))"
   ],
   "outputs": [],
   "execution_count": null
  },
  {
   "metadata": {},
   "cell_type": "markdown",
   "source": [
    "## Dimensionality Reduction\n",
    "### PCA"
   ]
  },
  {
   "cell_type": "code",
   "metadata": {},
   "source": [
    "# Initialize PCA,\n",
    "pca = PCA(n_components=0.9)\n",
    "\n",
    "# Fit and transform the data\n",
    "pca.fit(np.concatenate((x_train, x_test), axis=0))\n",
    "x_train_pca = pca.transform(x_train)\n",
    "x_test_pca = pca.transform(x_test)\n",
    "\n",
    "# Check the new shape of the data\n",
    "print(x_train_pca.shape)"
   ],
   "outputs": [],
   "execution_count": null
  },
  {
   "cell_type": "code",
   "metadata": {},
   "source": "plot_low_dim_components(x_train_pca, y_train, component_1=0, component_2=1)",
   "outputs": [],
   "execution_count": null
  },
  {
   "metadata": {},
   "cell_type": "markdown",
   "source": "### Kernel PCA (slow)"
  },
  {
   "metadata": {},
   "cell_type": "code",
   "source": [
    "# Initialize PCA,\n",
    "kpca = KernelPCA(n_components=25, kernel=\"rbf\") # kernel: rbf, sigmoid\n",
    "\n",
    "# Fit and transform the data\n",
    "kpca.fit(np.concatenate((x_train, x_test), axis=0))\n",
    "x_train_kpca = kpca.transform(x_train)\n",
    "x_test_kpca = kpca.transform(x_test)\n",
    "\n",
    "# Check the new shape of the data\n",
    "print(x_train_kpca.shape)"
   ],
   "outputs": [],
   "execution_count": null
  },
  {
   "metadata": {},
   "cell_type": "code",
   "source": "plot_low_dim_components(x_train_kpca, y_train, label=\"kPCA\")",
   "outputs": [],
   "execution_count": null
  },
  {
   "metadata": {},
   "cell_type": "markdown",
   "source": "### t-SNE (Visualisation *only*)"
  },
  {
   "metadata": {},
   "cell_type": "code",
   "source": [
    "# Set the parameters for t-SNE\n",
    "tsne = TSNE(n_components=2, random_state=0, perplexity=15, n_iter=2000, verbose=1)\n",
    "\n",
    "# Perform t-SNE on the data\n",
    "X_tsne = tsne.fit_transform(np.concatenate((x_train, x_test), axis=0))"
   ],
   "outputs": [],
   "execution_count": null
  },
  {
   "metadata": {},
   "cell_type": "code",
   "source": "plot_low_dim_components(X_tsne, np.concatenate((y_train, y_test), axis=0), label=\"t-SNE\")",
   "outputs": [],
   "execution_count": null
  },
  {
   "metadata": {},
   "cell_type": "markdown",
   "source": "### Use Lower Dimensional Features?"
  },
  {
   "metadata": {},
   "cell_type": "code",
   "source": [
    "x_train = x_train_pca#x_train#x_train_kpca# x_train_pca\n",
    "x_test = x_test_pca#x_test#x_test_kpca#x_test_pca"
   ],
   "outputs": [],
   "execution_count": null
  },
  {
   "metadata": {},
   "cell_type": "markdown",
   "source": "## LogisticRegression"
  },
  {
   "cell_type": "code",
   "metadata": {},
   "source": [
    "prediction_model = linear_model.LogisticRegression(\n",
    "    solver=\"newton-cg\", multi_class=\"auto\", max_iter=5000, class_weight=None\n",
    ")\n",
    "\n",
    "prediction_model.fit(x_train, y_train)\n",
    "\n",
    "y_train_pred = prediction_model.predict(x_train)\n",
    "y_pred = prediction_model.predict(x_test)\n",
    "#plot_confusion_matrix(y_train, y_train_pred)\n",
    "plot_confusion_matrix(y_test, y_pred)"
   ],
   "outputs": [],
   "execution_count": null
  },
  {
   "metadata": {},
   "cell_type": "markdown",
   "source": "## SVM"
  },
  {
   "metadata": {},
   "cell_type": "code",
   "source": [
    "# Scale features\n",
    "scaler = StandardScaler()\n",
    "X_train = scaler.fit_transform(x_train)\n",
    "X_test = scaler.transform(x_test)\n",
    "\n",
    "# Create an SVM classifier\n",
    "prediction_model = svm.SVC(kernel=\"rbf\", C=1.0, gamma=0.5, class_weight=\"balanced\")\n",
    "\n",
    "# Train the classifier\n",
    "prediction_model.fit(x_train, y_train)\n",
    "\n",
    "# Make predictions\n",
    "y_pred = prediction_model.predict(x_test)\n",
    "plot_confusion_matrix(y_test, y_pred)"
   ],
   "outputs": [],
   "execution_count": null
  },
  {
   "metadata": {},
   "cell_type": "markdown",
   "source": "## SHAP Values"
  },
  {
   "metadata": {},
   "cell_type": "code",
   "source": [
    "# Create the SHAP Explainer\n",
    "explainer = shap.Explainer(prediction_model.predict, x_train, max_evals=2500)\n",
    "shap_values = explainer(x_test)\n",
    "\n",
    "# Plot SHAP values\n",
    "shap.summary_plot(shap_values, x_test)"
   ],
   "outputs": [],
   "execution_count": null
  }
 ],
 "metadata": {
  "kernelspec": {
   "display_name": "base",
   "language": "python",
   "name": "python3"
  },
  "language_info": {
   "codemirror_mode": {
    "name": "ipython",
    "version": 3
   },
   "file_extension": ".py",
   "mimetype": "text/x-python",
   "name": "python",
   "nbconvert_exporter": "python",
   "pygments_lexer": "ipython3",
   "version": "3.11.5"
  },
  "orig_nbformat": 4
 },
 "nbformat": 4,
 "nbformat_minor": 2
}
