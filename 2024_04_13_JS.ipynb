{
 "cells": [
  {
   "cell_type": "markdown",
   "id": "1e80cfdb204fa594",
   "metadata": {
    "collapsed": false,
    "jupyter": {
     "outputs_hidden": false
    }
   },
   "source": [
    "This Jupyter notebook is responsible for running the cancer detection algorithm."
   ]
  },
  {
   "cell_type": "markdown",
   "id": "42262e1f2d369413",
   "metadata": {
    "collapsed": false,
    "jupyter": {
     "outputs_hidden": false
    }
   },
   "source": [
    "# Data preprocessing"
   ]
  },
  {
   "cell_type": "code",
   "execution_count": null,
   "id": "f9fe99f7c5b3fd80",
   "metadata": {
    "ExecuteTime": {
     "end_time": "2024-04-12T07:14:55.769755Z",
     "start_time": "2024-04-12T07:14:55.043900Z"
    },
    "collapsed": false,
    "jupyter": {
     "outputs_hidden": false
    }
   },
   "outputs": [],
   "source": [
    "import pandas as pd\n",
    "import methods\n",
    "import os\n",
    "import cv2\n",
    "import matplotlib.pyplot as plt\n",
    "import numpy as np\n",
    "from tqdm import tqdm\n",
    "from sklearn.decomposition import PCA\n",
    "from sklearn.linear_model import LogisticRegression\n",
    "from sklearn.model_selection import train_test_split\n",
    "from sklearn.metrics import accuracy_score, confusion_matrix, ConfusionMatrixDisplay, precision_score, f1_score, recall_score, classification_report\n",
    "from skimage.feature import graycomatrix, graycoprops\n",
    "from sklearn import svm\n",
    "from sklearn.preprocessing import StandardScaler\n",
    "from skimage import data\n",
    "from skimage.feature import blob_dog, blob_log, blob_doh\n",
    "from skimage.color import rgb2gray\n",
    "import math\n",
    "from skimage import data, feature, color, io\n",
    "from skimage.draw import disk\n",
    "\n",
    "\n",
    "%load_ext autoreload\n",
    "%autoreload 2\n",
    "\n",
    "# Local folders containing your images\n",
    "# HAM10000_images_part_1_2 contains all 10k images while JS_Selection just cointains ~200 images\n",
    "\n",
    "original_folder_path =  './dataverse_files/HAM10000_images_part_1'\n",
    "#original_folder_path =  './dataverse_files/HAM10000_images_part_1_2'  # folder containing all 10k images\n",
    "#original_folder_path =  './dataverse_files/JS_Selection'\n",
    "processed_folder_path =  './preprocessed_images'\n",
    "\n",
    "if not os.path.exists(processed_folder_path):\n",
    "    os.makedirs(processed_folder_path)"
   ]
  },
  {
   "cell_type": "code",
   "execution_count": null,
   "outputs": [],
   "source": [
    "# Create Ground Truth dataframe\n",
    "df = pd.read_csv(\"./dataverse_files/HAM10000_metadata.csv\")\n",
    "\n",
    "df.dx.unique()\n",
    "\n",
    "cancerous = [\"akiec\", \"bcc\", \"mel\"]\n",
    "non_cancerous = [\"bkl\", \"df\", \"nv\", \"vasc\"]\n",
    "df[\"cancer\"] = False\n",
    "\n",
    "# Assign True to 'cancer' where 'dx' matches the cancerous list\n",
    "df.loc[df['dx'].isin(cancerous), 'cancer'] = True\n",
    "df.loc[(df['dx'].isin(non_cancerous)), 'cancer'] = False"
   ],
   "metadata": {
    "collapsed": false
   }
  },
  {
   "cell_type": "markdown",
   "source": [
    "## Test Single Image"
   ],
   "metadata": {
    "collapsed": false
   }
  },
  {
   "cell_type": "code",
   "execution_count": null,
   "outputs": [],
   "source": [
    "image_path = os.path.join(original_folder_path, os.listdir(original_folder_path)[4])\n",
    "image = cv2.imread(image_path)\n",
    "# Convert the color from BGR to RGB\n",
    "image = cv2.cvtColor(image, cv2.COLOR_BGR2RGB)\n",
    "\n",
    "# Convert the color from BGR to RGB\n",
    "gray_image = cv2.cvtColor(image, cv2.COLOR_BGR2GRAY)\n",
    "\n",
    "blob = methods.detect_significant_blob(image, plot_image=True, plot_chosen_transformation=False)\n",
    "\n",
    "#methods.calculate_glcm_features_for_blob(gray_image, blob)\n",
    "#plt.imshow(image)"
   ],
   "metadata": {
    "collapsed": false
   }
  },
  {
   "cell_type": "code",
   "execution_count": null,
   "outputs": [],
   "source": [
    "gabor_frequencies = [0.05, 0.1, 0.15, 0.2, 0.25]\n",
    "gabor_thetas = [0, np.pi/4, np.pi/2]\n",
    "gabor_sigmas = [1, 2, 3]\n",
    "\n",
    "# Apply the Gabor filters and extract features\n",
    "feature_results = methods.apply_gabor_filters_and_extract_features(image, gabor_frequencies, gabor_thetas, gabor_sigmas)\n",
    "np.shape(feature_results)"
   ],
   "metadata": {
    "collapsed": false
   }
  },
  {
   "cell_type": "code",
   "execution_count": null,
   "id": "a3a51f15-5287-4d27-9858-0be7e26248dc",
   "metadata": {},
   "outputs": [],
   "source": [
    "hist = methods.create_histogram(image, color_space=\"HSV\")\n",
    "plt.plot(hist[0], \"r\")\n",
    "plt.plot(hist[1], \"g\")\n",
    "plt.plot(hist[2], \"b\")"
   ]
  },
  {
   "cell_type": "markdown",
   "source": [
    "## Feature Extraction (all images in folder)"
   ],
   "metadata": {
    "collapsed": false
   }
  },
  {
   "cell_type": "code",
   "execution_count": null,
   "outputs": [],
   "source": [
    "histograms_rgb = []\n",
    "histograms_hsv = []\n",
    "graycomatrix_features = []\n",
    "gabor_features = []\n",
    "Y = []\n",
    "\n",
    "for image_name in tqdm(os.listdir(original_folder_path)):\n",
    "    image_path = os.path.join(original_folder_path, image_name)\n",
    "\n",
    "    if image_path.lower().endswith(('.png', '.jpg', '.jpeg', '.tiff', '.bmp', '.gif')):\n",
    "        cancer = df.loc[df['image_id'] == image_name.split(\".\")[-2], 'cancer'].values[0]\n",
    "\n",
    "        # Read the image using OpenCV\n",
    "        image = cv2.imread(image_path)\n",
    "        # Convert the color from BGR to RGB\n",
    "        image_rgb = cv2.cvtColor(image, cv2.COLOR_BGR2RGB)\n",
    "\n",
    "        #\n",
    "        # Feature Extraction\n",
    "        #\n",
    "\n",
    "        # Histograms\n",
    "        hist_rgb = methods.create_histogram(image, color_space=\"RGB\")\n",
    "        hist_hsv = methods.create_histogram(image, color_space=\"HSV\")\n",
    "        histograms_rgb.append(hist_rgb)\n",
    "        histograms_hsv.append(hist_hsv)\n",
    "\n",
    "        # Structure: GLCM Matrix\n",
    "        graycomatrix_features.append(methods.calculate_glcm_features(image))\n",
    "\n",
    "        # Structure: GLCM Matrix (With blob detection --> very slow)\n",
    "        #blob = methods.detect_significant_blob(image, plot_image=False)\n",
    "        #graycomatrix_features.append(methods.calculate_glcm_features_for_blob(gray_image, blob))\n",
    "           \n",
    "        # Gabor filters (also slow)\n",
    "        #gabor_result = methods.apply_gabor_filters_and_extract_features(image, gabor_frequencies, gabor_thetas, gabor_sigmas)\n",
    "        #gabor_features.append(gabor_result)\n",
    "\n",
    "        Y.append(cancer)\n",
    "\n",
    "histograms_rgb = np.array(histograms_rgb)\n",
    "histograms_hsv = np.array(histograms_hsv)\n",
    "Y = np.array(Y)"
   ],
   "metadata": {
    "collapsed": false
   }
  },
  {
   "cell_type": "markdown",
   "source": [
    "## Playground Model Training"
   ],
   "metadata": {
    "collapsed": false
   }
  },
  {
   "cell_type": "code",
   "execution_count": null,
   "outputs": [],
   "source": [
    "features_rgb = histograms_rgb.reshape(len(Y), -1) #  flatten the RGB channels\n",
    "features_hsv = histograms_hsv.reshape(len(Y), -1) #  flatten the RGB channels"
   ],
   "metadata": {
    "collapsed": false
   }
  },
  {
   "cell_type": "markdown",
   "source": [
    "## Generate the Feature Vector"
   ],
   "metadata": {
    "collapsed": false
   }
  },
  {
   "cell_type": "code",
   "execution_count": null,
   "outputs": [],
   "source": [
    "X_features = np.concatenate((features_rgb, features_hsv), axis=1)  # do we need to z-normalize the features before?\n",
    "\n",
    "# Add the structure feature\n",
    "#X_features = np.concatenate((X_features, graycomatrix_features), axis=1)\n",
    "#X_features = graycomatrix_features\n",
    "#X_features = np.nan_to_num(gabor_features)\n",
    "\n",
    "# Add the gabor features\n",
    "#X_features = np.concatenate((X_features, np.nan_to_num(gabor_features)), axis=1) # add additional featuers\n",
    "\n",
    "np.shape(X_features)"
   ],
   "metadata": {
    "collapsed": false
   }
  },
  {
   "cell_type": "code",
   "execution_count": null,
   "outputs": [],
   "source": [
    "# Initialize PCA, let's say we want to keep 95% of the variance\n",
    "pca = PCA(n_components=0.95)\n",
    "\n",
    "# Fit and transform the data\n",
    "X_pca = pca.fit_transform(X_features)\n",
    "\n",
    "# Check the new shape of the data\n",
    "print(X_pca.shape)\n"
   ],
   "metadata": {
    "collapsed": false
   }
  },
  {
   "cell_type": "code",
   "execution_count": null,
   "outputs": [],
   "source": [
    "# Scatter plot of the first two PCA components\n",
    "# Here, X_pca[:, 0] is the first component, X_pca[:, 1] is the second component\n",
    "plt.figure(figsize=(10, 7))\n",
    "plt.scatter(X_pca[Y == 0, 0], X_pca[Y == 0, 1], c='blue', label='Non-Cancerous')  # Non-cancerous in blue\n",
    "plt.scatter(X_pca[Y == 1, 0], X_pca[Y == 1, 1], c='red', label='Cancerous')  # Cancerous labeled in red\n",
    "\n",
    "# Adding labels and title\n",
    "plt.xlabel('Principal Component 1')\n",
    "plt.ylabel('Principal Component 2')\n",
    "plt.title('PCA of Image Data')\n",
    "plt.legend()\n"
   ],
   "metadata": {
    "collapsed": false
   }
  },
  {
   "cell_type": "code",
   "execution_count": null,
   "outputs": [],
   "source": [
    "# Split the data into training and testing sets\n",
    "X_train, X_test, Y_train, Y_test = train_test_split(X_pca, Y, test_size=0.3, random_state=42)\n",
    "#X_train, X_test, Y_train, Y_test = train_test_split(X_features, Y, test_size=0.3, random_state=42)"
   ],
   "metadata": {
    "collapsed": false
   }
  },
  {
   "cell_type": "code",
   "execution_count": null,
   "outputs": [],
   "source": [
    "# Log Regression Model\n",
    "logreg = LogisticRegression(max_iter=10000)\n",
    "\n",
    "# Fit the logistic regression model on the training data\n",
    "logreg.fit(X_train, Y_train)\n",
    "\n",
    "# Predict the labels for the test set\n",
    "Y_pred = logreg.predict(X_test)"
   ],
   "metadata": {
    "collapsed": false
   }
  },
  {
   "cell_type": "code",
   "execution_count": null,
   "outputs": [],
   "source": [
    "# SVM model\n",
    "# Scale features\n",
    "scaler = StandardScaler()\n",
    "X_train = scaler.fit_transform(X_train)\n",
    "X_test = scaler.transform(X_test)\n",
    "\n",
    "# Create an SVM classifier\n",
    "clf = svm.SVC(kernel='poly', C=1.0, gamma=0.5, class_weight=\"balanced\")\n",
    "\n",
    "# Train the classifier\n",
    "clf.fit(X_train, Y_train)\n",
    "\n",
    "# Make predictions\n",
    "Y_pred = clf.predict(X_test)\n"
   ],
   "metadata": {
    "collapsed": false
   }
  },
  {
   "cell_type": "code",
   "execution_count": null,
   "outputs": [],
   "source": [
    "conf_matrix = confusion_matrix(Y_test, Y_pred)\n",
    "\n",
    "# Initialize the ConfusionMatrixDisplay object with the confusion matrix\n",
    "cmd = ConfusionMatrixDisplay(conf_matrix, display_labels=logreg.classes_)\n",
    "\n",
    "# Plot the confusion matrix\n",
    "cmd.plot(cmap=plt.cm.Blues)  # You can choose other color maps like 'viridis', 'plasma', etc.\n",
    "plt.title('Confusion Matrix')\n",
    "plt.show()"
   ],
   "metadata": {
    "collapsed": false
   }
  },
  {
   "cell_type": "code",
   "execution_count": null,
   "outputs": [],
   "source": [
    "accuracy = accuracy_score(Y_test, Y_pred)\n",
    "precision = precision_score(Y_test, Y_pred, pos_label=1)\n",
    "recall = recall_score(Y_test, Y_pred, pos_label=1)\n",
    "f1 = f1_score(Y_test, Y_pred, pos_label=1)\n",
    "\n",
    "print(f\"Accuracy: {accuracy}\")\n",
    "print(f\"Precision: {precision}\")\n",
    "print(f\"Recall: {recall}\")\n",
    "print(f\"F1 Score: {f1}\")"
   ],
   "metadata": {
    "collapsed": false
   }
  },
  {
   "cell_type": "code",
   "execution_count": null,
   "outputs": [],
   "source": [
    "histograms_rgb_cancer = histograms_rgb[Y==1].squeeze()\n",
    "histograms_rgb_benign = histograms_rgb[Y==0].squeeze()\n",
    "\n",
    "histograms_rgb_benign_avg = np.mean(histograms_rgb_benign, axis=0)\n",
    "histograms_rgb_cancer_avg = np.mean(histograms_rgb_cancer, axis=0)"
   ],
   "metadata": {
    "collapsed": false
   }
  },
  {
   "cell_type": "code",
   "execution_count": null,
   "outputs": [],
   "source": [
    "fig, axes = plt.subplots(nrows=1, ncols=3, figsize=(14,5))\n",
    "\n",
    "ax1 = axes[0]\n",
    "ax1.plot(histograms_rgb_cancer_avg[0], \"r\", label=\"cancer\")\n",
    "ax1.plot(histograms_rgb_benign_avg[0], \":r\", label=\"benign\")\n",
    "ax1.set_xlabel(\"Red Intensity (a.u.)\")\n",
    "ax1.set_ylabel(\"Counts (a.u.)\")\n",
    "ax1.legend()\n",
    "\n",
    "ax2 = axes[1]\n",
    "ax2.plot(histograms_rgb_cancer_avg[1], \"g\", label=\"cancer\")\n",
    "ax2.plot(histograms_rgb_benign_avg[2], \":g\", label=\"benign\")\n",
    "ax2.set_xlabel(\"Green Intensity (a.u.)\")\n",
    "ax2.set_ylabel(\"Counts (a.u.)\")\n",
    "ax2.legend()\n",
    "\n",
    "ax3 = axes[2]\n",
    "ax3.plot(histograms_rgb_cancer_avg[2], \"b\", label=\"cancer\")\n",
    "ax3.plot(histograms_rgb_benign_avg[2], \":b\", label=\"benign\")\n",
    "ax3.set_xlabel(\"Blue Intensity (a.u.)\")\n",
    "ax3.set_ylabel(\"Counts (a.u.)\")\n",
    "ax3.legend()\n",
    "\n",
    "fig.tight_layout()\n",
    "fig.savefig(\"figures/rgb_hist.png\", dpi=300, transparent=False)"
   ],
   "metadata": {
    "collapsed": false
   }
  },
  {
   "cell_type": "code",
   "execution_count": null,
   "outputs": [],
   "source": [],
   "metadata": {
    "collapsed": false
   }
  }
 ],
 "metadata": {
  "kernelspec": {
   "display_name": "Python 3 (ipykernel)",
   "language": "python",
   "name": "python3"
  },
  "language_info": {
   "codemirror_mode": {
    "name": "ipython",
    "version": 3
   },
   "file_extension": ".py",
   "mimetype": "text/x-python",
   "name": "python",
   "nbconvert_exporter": "python",
   "pygments_lexer": "ipython3",
   "version": "3.11.8"
  }
 },
 "nbformat": 4,
 "nbformat_minor": 5
}
