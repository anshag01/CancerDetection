{
 "cells": [
  {
   "cell_type": "markdown",
   "id": "1e80cfdb204fa594",
   "metadata": {
    "collapsed": false,
    "jupyter": {
     "outputs_hidden": false
    }
   },
   "source": [
    "This Jupyter notebook is responsible for running the cancer detection algorithm."
   ]
  },
  {
   "cell_type": "markdown",
   "id": "42262e1f2d369413",
   "metadata": {
    "collapsed": false,
    "jupyter": {
     "outputs_hidden": false
    }
   },
   "source": [
    "# Data preprocessing"
   ]
  },
  {
   "cell_type": "code",
   "execution_count": null,
   "id": "f9fe99f7c5b3fd80",
   "metadata": {
    "ExecuteTime": {
     "end_time": "2024-04-12T07:14:55.769755Z",
     "start_time": "2024-04-12T07:14:55.043900Z"
    },
    "collapsed": false,
    "jupyter": {
     "outputs_hidden": false
    }
   },
   "outputs": [],
   "source": [
    "import pandas as pd\n",
    "import methods\n",
    "import os\n",
    "import cv2\n",
    "import matplotlib.pyplot as plt\n",
    "import numpy as np\n",
    "from tqdm import tqdm\n",
    "from sklearn.decomposition import PCA\n",
    "from sklearn.linear_model import LogisticRegression\n",
    "from sklearn.model_selection import train_test_split\n",
    "from sklearn.metrics import accuracy_score, confusion_matrix, ConfusionMatrixDisplay, precision_score, f1_score, recall_score, classification_report\n",
    "from skimage.feature import graycomatrix, graycoprops\n",
    "from sklearn import svm\n",
    "from sklearn.preprocessing import StandardScaler\n",
    "from skimage import data\n",
    "from skimage.feature import blob_dog, blob_log, blob_doh\n",
    "from skimage.color import rgb2gray\n",
    "import math\n",
    "from skimage import data, feature, color, io\n",
    "from skimage.draw import disk\n",
    "\n",
    "\n",
    "%load_ext autoreload\n",
    "%autoreload 2\n",
    "\n",
    "#original_folder_path =  './dataverse_files/HAM10000_images_part_1'\n",
    "#original_folder_path =  './dataverse_files/HAM10000_images_part_1_2'  # folder containing all 10k images\n",
    "original_folder_path =  './dataverse_files/JS_Selection'\n",
    "processed_folder_path =  './preprocessed_images'\n",
    "\n",
    "if not os.path.exists(processed_folder_path):\n",
    "    os.makedirs(processed_folder_path)\n",
    "\n",
    "df = pd.read_csv(\"./dataverse_files/HAM10000_metadata.csv\")\n",
    "\n",
    "\n",
    "df.dx.unique()\n",
    "\n",
    "cancerous = [\"akiec\", \"bcc\", \"mel\"]\n",
    "non_cancerous = [\"bkl\", \"df\", \"nv\", \"vasc\"]\n",
    "#df[\"cancer\"] = df.dx.isin()\n",
    "df[\"cancer\"] = False\n",
    "\n",
    "# Assign True to 'cancer' where 'dx' matches the cancerous list\n",
    "df.loc[df['dx'].isin(cancerous), 'cancer'] = True\n",
    "df.loc[(df['dx'].isin(non_cancerous)), 'cancer'] = False\n"
   ]
  },
  {
   "cell_type": "code",
   "execution_count": null,
   "outputs": [],
   "source": [
    "len(df[df.cancer==True]), len(df[df.cancer==False])"
   ],
   "metadata": {
    "collapsed": false
   }
  },
  {
   "cell_type": "code",
   "execution_count": null,
   "id": "c8265847a00be127",
   "metadata": {
    "ExecuteTime": {
     "end_time": "2024-04-12T07:14:57.344318Z",
     "start_time": "2024-04-12T07:14:57.285520Z"
    },
    "collapsed": false,
    "jupyter": {
     "outputs_hidden": false
    }
   },
   "outputs": [],
   "source": [
    "for image_name in os.listdir(processed_folder_path):\n",
    "    full_image_path = os.path.join(processed_folder_path, image_name)\n",
    "    print(methods.lbp_features(full_image_path, radius=1, n_points=8, method='uniform'))"
   ]
  },
  {
   "cell_type": "code",
   "execution_count": null,
   "id": "50c156e6c860ecdd",
   "metadata": {
    "ExecuteTime": {
     "end_time": "2024-04-09T15:06:34.968800Z",
     "start_time": "2024-04-09T15:06:30.462661Z"
    },
    "collapsed": false,
    "jupyter": {
     "outputs_hidden": false
    }
   },
   "outputs": [],
   "source": [
    "for image_name in os.listdir(original_folder_path):\n",
    "    print(\"Processing\", image_name)\n",
    "    image_path = os.path.join(original_folder_path, image_name)\n",
    "    \n",
    "    if image_path.lower().endswith(('.png', '.jpg', '.jpeg', '.tiff', '.bmp', '.gif')):\n",
    "        #processed_img = load_preprocess_image(image_path)\n",
    "        processed_img = cv2.imread(image_path)\n",
    "                                           \n",
    "        processed_image_path = os.path.join(processed_folder_path, image_name)\n",
    "        cv2.imwrite(processed_image_path, processed_img)"
   ]
  },
  {
   "cell_type": "code",
   "execution_count": null,
   "outputs": [],
   "source": [
    "image_path = os.path.join(original_folder_path, os.listdir(original_folder_path)[4])\n",
    "image = cv2.imread(image_path)\n",
    "# Convert the color from BGR to RGB\n",
    "image = cv2.cvtColor(image, cv2.COLOR_BGR2RGB)\n",
    "\n",
    "# Convert the color from BGR to RGB\n",
    "gray_image = cv2.cvtColor(image, cv2.COLOR_BGR2GRAY)\n",
    "\n",
    "blob = methods.detect_significant_blob(image, plot_image=True, plot_chosen_transformation=False)\n",
    "\n",
    "#methods.calculate_glcm_features_for_blob(gray_image, blob)\n",
    "#plt.imshow(image)"
   ],
   "metadata": {
    "collapsed": false
   }
  },
  {
   "cell_type": "code",
   "execution_count": null,
   "id": "a3a51f15-5287-4d27-9858-0be7e26248dc",
   "metadata": {},
   "outputs": [],
   "source": [
    "hist = methods.create_histogram(image, color_space=\"HSV\")\n",
    "plt.plot(hist[0], \"r\")\n",
    "plt.plot(hist[1], \"g\")\n",
    "plt.plot(hist[2], \"b\")"
   ]
  },
  {
   "cell_type": "code",
   "execution_count": null,
   "outputs": [],
   "source": [
    "histograms_cancer = []\n",
    "histograms_benign = []\n",
    "graycomatrix_features = []\n",
    "\n",
    "for image_name in tqdm(os.listdir(original_folder_path)):\n",
    "    image_path = os.path.join(original_folder_path, image_name)\n",
    "\n",
    "    if image_path.lower().endswith(('.png', '.jpg', '.jpeg', '.tiff', '.bmp', '.gif')):\n",
    "        cancer = df.loc[df['image_id'] == image_name.split(\".\")[-2], 'cancer'].values[0]\n",
    "\n",
    "        # Read the image using OpenCV\n",
    "        image = cv2.imread(image_path)\n",
    "        # Convert the color from BGR to RGB\n",
    "        image_rgb = cv2.cvtColor(image, cv2.COLOR_BGR2RGB)\n",
    "        \n",
    "        # get the Histogram\n",
    "        hist = methods.create_histogram(image, color_space=\"HSV\")\n",
    "\n",
    "        \"\"\"Texture Extraction\"\"\"\n",
    "        # Convert the image to grayscale\n",
    "        gray_image = cv2.cvtColor(image, cv2.COLOR_RGB2GRAY)\n",
    "\n",
    "        # Normalize pixel values to 0 - 255\n",
    "        gray_image = np.uint8((gray_image - gray_image.min()) / (gray_image.max() - gray_image.min()) * 255)\n",
    "\n",
    "        \"\"\"\n",
    "        # Compute the Gray-Level Co-Occurrence Matrix (GLCM)\n",
    "        # distances [1] and angles [0, np.pi/4, np.pi/2, 3*np.pi/4] (0, 45, 90, and 135 degrees)\n",
    "        glcm = graycomatrix(gray_image, distances=[1, 2, 3], angles=[0, np.pi/4, np.pi/2, 3*np.pi/4], symmetric=True, normed=True)\n",
    "\n",
    "\n",
    "        # Feature extraction\n",
    "        properties = ['contrast', 'dissimilarity', 'homogeneity', 'energy', 'correlation', 'ASM']\n",
    "        feature_vector = []\n",
    "        for prop in properties:\n",
    "            temp = graycoprops(glcm, prop).flatten()  # Flatten to convert from 2D to 1D\n",
    "            feature_vector.append(np.mean(temp))  # Taking mean across different angles\n",
    "        \"\"\"\n",
    "        \n",
    "        blob = methods.detect_significant_blob(image, plot_image=False)\n",
    "        feature_vector = methods.calculate_glcm_features_for_blob(gray_image, blob)\n",
    "        graycomatrix_features.append(feature_vector)\n",
    "           \n",
    "\n",
    "        if cancer==True:\n",
    "            histograms_cancer.append(hist)\n",
    "        elif cancer==False:\n",
    "            histograms_benign.append(hist)\n",
    "        else:\n",
    "            assert(\"False\")\n",
    "\n",
    "\n",
    "histograms_benign_avg = np.mean(histograms_benign, axis=0)\n",
    "histograms_cancer_avg = np.mean(histograms_cancer, axis=0)"
   ],
   "metadata": {
    "collapsed": false
   }
  },
  {
   "cell_type": "code",
   "execution_count": null,
   "outputs": [],
   "source": [
    "np.shape(graycomatrix_features)"
   ],
   "metadata": {
    "collapsed": false
   }
  },
  {
   "cell_type": "code",
   "execution_count": null,
   "outputs": [],
   "source": [],
   "metadata": {
    "collapsed": false
   }
  },
  {
   "cell_type": "code",
   "execution_count": null,
   "outputs": [],
   "source": [
    "histograms_cancer_ = np.array(histograms_cancer).squeeze()\n",
    "histograms_benign_ = np.array(histograms_benign).squeeze()\n",
    "\n",
    "X = np.concatenate((histograms_cancer_, histograms_benign_), axis=0)\n",
    "\n",
    "Y = np.concatenate((np.ones(histograms_cancer_.shape[0]), -1*np.ones(histograms_benign_.shape[0])), axis=0)\n",
    "\n",
    "X_reshaped = X.reshape(len(Y), -1) #  flatten the RGB channels\n",
    "np.shape(X_reshaped)"
   ],
   "metadata": {
    "collapsed": false
   }
  },
  {
   "cell_type": "code",
   "execution_count": null,
   "outputs": [],
   "source": [
    "#X_reshaped = np.concatenate((X_reshaped, graycomatrix_features), axis=1) # add additional featuers\n",
    "X_reshaped = graycomatrix_features\n",
    "np.shape(X_reshaped)"
   ],
   "metadata": {
    "collapsed": false
   }
  },
  {
   "cell_type": "code",
   "execution_count": null,
   "outputs": [],
   "source": [
    "# Initialize PCA, let's say we want to keep 95% of the variance\n",
    "pca = PCA(n_components=0.95)\n",
    "\n",
    "# Fit and transform the data\n",
    "X_pca = pca.fit_transform(X_reshaped)\n",
    "\n",
    "# Check the new shape of the data\n",
    "print(X_pca.shape)\n"
   ],
   "metadata": {
    "collapsed": false
   }
  },
  {
   "cell_type": "code",
   "execution_count": null,
   "outputs": [],
   "source": [
    "import matplotlib.pyplot as plt\n",
    "\n",
    "# Scatter plot of the first two PCA components\n",
    "# Here, X_pca[:, 0] is the first component, X_pca[:, 1] is the second component\n",
    "plt.figure(figsize=(10, 7))\n",
    "plt.scatter(X_pca[Y == -1, 0], X_pca[Y == -1, 1], c='blue', label='Non-Cancerous')  # Non-cancerous in blue\n",
    "plt.scatter(X_pca[Y == 1, 0], X_pca[Y == 1, 1], c='red', label='Cancerous')  # Cancerous labeled in red\n",
    "\n",
    "# Adding labels and title\n",
    "plt.xlabel('Principal Component 1')\n",
    "plt.ylabel('Principal Component 2')\n",
    "plt.title('PCA of Image Data')\n",
    "plt.legend()\n"
   ],
   "metadata": {
    "collapsed": false
   }
  },
  {
   "cell_type": "code",
   "execution_count": null,
   "outputs": [],
   "source": [
    "# Split the data into training and testing sets\n",
    "X_train, X_test, Y_train, Y_test = train_test_split(X_pca, Y, test_size=0.3, random_state=42)"
   ],
   "metadata": {
    "collapsed": false
   }
  },
  {
   "cell_type": "code",
   "execution_count": null,
   "outputs": [],
   "source": [
    "# Log Regression Model\n",
    "logreg = LogisticRegression(max_iter=10000)\n",
    "\n",
    "# Fit the logistic regression model on the training data\n",
    "logreg.fit(X_train, Y_train)\n",
    "\n",
    "# Predict the labels for the test set\n",
    "Y_pred = logreg.predict(X_test)"
   ],
   "metadata": {
    "collapsed": false
   }
  },
  {
   "cell_type": "code",
   "execution_count": null,
   "outputs": [],
   "source": [
    "# SVM model\n",
    "# Scale features\n",
    "scaler = StandardScaler()\n",
    "X_train = scaler.fit_transform(X_train)\n",
    "X_test = scaler.transform(X_test)\n",
    "\n",
    "# Create an SVM classifier\n",
    "clf = svm.SVC(kernel='poly', C=1.0, gamma=0.5, class_weight=\"balanced\")\n",
    "\n",
    "# Train the classifier\n",
    "clf.fit(X_train, Y_train)\n",
    "\n",
    "# Make predictions\n",
    "Y_pred = clf.predict(X_test)\n"
   ],
   "metadata": {
    "collapsed": false
   }
  },
  {
   "cell_type": "code",
   "execution_count": null,
   "outputs": [],
   "source": [
    "conf_matrix = confusion_matrix(Y_test, Y_pred)\n",
    "\n",
    "# Initialize the ConfusionMatrixDisplay object with the confusion matrix\n",
    "cmd = ConfusionMatrixDisplay(conf_matrix, display_labels=logreg.classes_)\n",
    "\n",
    "# Plot the confusion matrix\n",
    "cmd.plot(cmap=plt.cm.Blues)  # You can choose other color maps like 'viridis', 'plasma', etc.\n",
    "plt.title('Confusion Matrix')\n",
    "plt.show()"
   ],
   "metadata": {
    "collapsed": false
   }
  },
  {
   "cell_type": "code",
   "execution_count": null,
   "outputs": [],
   "source": [
    "accuracy = accuracy_score(Y_test, Y_pred)\n",
    "precision = precision_score(Y_test, Y_pred, pos_label=1)\n",
    "recall = recall_score(Y_test, Y_pred, pos_label=1)\n",
    "f1 = f1_score(Y_test, Y_pred, pos_label=1)\n",
    "\n",
    "print(f\"Accuracy: {accuracy}\")\n",
    "print(f\"Precision: {precision}\")\n",
    "print(f\"Recall: {recall}\")\n",
    "print(f\"F1 Score: {f1}\")"
   ],
   "metadata": {
    "collapsed": false
   }
  },
  {
   "cell_type": "code",
   "execution_count": null,
   "outputs": [],
   "source": [
    "fig, axes = plt.subplots(nrows=1, ncols=3, figsize=(14,5))\n",
    "\n",
    "ax1 = axes[0]\n",
    "ax1.plot(histograms_cancer_avg[0], \"r\", label=\"cancer\")\n",
    "ax1.plot(histograms_benign_avg[0], \":r\", label=\"benign\")\n",
    "ax1.set_xlabel(\"Red Intensity (a.u.)\")\n",
    "ax1.set_ylabel(\"Counts (a.u.)\")\n",
    "ax1.legend()\n",
    "\n",
    "ax2 = axes[1]\n",
    "ax2.plot(histograms_cancer_avg[1], \"g\", label=\"cancer\")\n",
    "ax2.plot(histograms_benign_avg[2], \":g\", label=\"benign\")\n",
    "ax2.set_xlabel(\"Green Intensity (a.u.)\")\n",
    "ax2.set_ylabel(\"Counts (a.u.)\")\n",
    "ax2.legend()\n",
    "\n",
    "ax3 = axes[2]\n",
    "ax3.plot(histograms_cancer_avg[2], \"b\", label=\"cancer\")\n",
    "ax3.plot(histograms_benign_avg[2], \":b\", label=\"benign\")\n",
    "ax3.set_xlabel(\"Blue Intensity (a.u.)\")\n",
    "ax3.set_ylabel(\"Counts (a.u.)\")\n",
    "ax3.legend()\n",
    "\n",
    "fig.tight_layout()\n",
    "fig.savefig(\"figures/rgb_hist.png\", dpi=300, transparent=False)"
   ],
   "metadata": {
    "collapsed": false
   }
  },
  {
   "cell_type": "raw",
   "source": [
    "for image_name in os.listdir(original_folder_path):\n",
    "    image_path = os.path.join(original_folder_path, image_name)\n",
    "    image = load_preprocess_image(image_path)\n",
    "    contours = extract_contours(image)\n",
    "    largest_contour = max(contours, key=cv2.contourArea)\n",
    "    shapes = classify_shapes(largest_contour)\n",
    "    print(image_path, shapes)"
   ],
   "metadata": {
    "collapsed": false
   }
  }
 ],
 "metadata": {
  "kernelspec": {
   "display_name": "Python 3 (ipykernel)",
   "language": "python",
   "name": "python3"
  },
  "language_info": {
   "codemirror_mode": {
    "name": "ipython",
    "version": 3
   },
   "file_extension": ".py",
   "mimetype": "text/x-python",
   "name": "python",
   "nbconvert_exporter": "python",
   "pygments_lexer": "ipython3",
   "version": "3.11.8"
  }
 },
 "nbformat": 4,
 "nbformat_minor": 5
}
