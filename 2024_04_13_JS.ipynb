{
 "cells": [
  {
   "cell_type": "markdown",
   "id": "1e80cfdb204fa594",
   "metadata": {
    "collapsed": false,
    "jupyter": {
     "outputs_hidden": false
    }
   },
   "source": [
    "This Jupyter notebook is responsible for running the cancer detection algorithm."
   ]
  },
  {
   "cell_type": "markdown",
   "id": "42262e1f2d369413",
   "metadata": {
    "collapsed": false,
    "jupyter": {
     "outputs_hidden": false
    }
   },
   "source": [
    "# Data preprocessing"
   ]
  },
  {
   "cell_type": "code",
   "id": "f9fe99f7c5b3fd80",
   "metadata": {
    "collapsed": false,
    "jupyter": {
     "outputs_hidden": false
    }
   },
   "source": [
    "import pandas as pd\n",
    "from data_augmentation import *\n",
    "import os\n",
    "import cv2\n",
    "import matplotlib.pyplot as plt\n",
    "import numpy as np\n",
    "from sklearn.decomposition import PCA\n",
    "from sklearn.linear_model import LogisticRegression\n",
    "from sklearn.metrics import accuracy_score, confusion_matrix, ConfusionMatrixDisplay, precision_score, f1_score, recall_score\n",
    "from sklearn import svm\n",
    "from sklearn.preprocessing import StandardScaler\n",
    "from os.path import join\n",
    "import subprocess\n",
    "\n",
    "%load_ext autoreload\n",
    "%autoreload 2"
   ],
   "outputs": [],
   "execution_count": null
  },
  {
   "cell_type": "code",
   "source": [
    "# determine the git repo\n",
    "repo_dir = subprocess.Popen(['git', 'rev-parse', '--show-toplevel'], stdout=subprocess.PIPE).communicate()[0].rstrip().decode('utf-8')\n",
    "\n",
    "# Local folders containing your images\n",
    "# HAM10000_images_part_1_2 contains all 10k images while JS_Selection just cointains ~200 images\n",
    "\n",
    "#original_folder_path =  os.path.join(repo_dir, 'dataverse_files/HAM10000_images_part_1')\n",
    "#original_folder_path =  os.path.join(repo_dir, 'dataverse_files/HAM10000_images_part_1_2')\n",
    "original_folder_path =  os.path.join(repo_dir, 'dataverse_files/JS_Selection')\n",
    "processed_folder_path =  os.path.join(repo_dir, 'preprocessed_images')\n",
    "\n",
    "os.makedirs(processed_folder_path, exist_ok=True)"
   ],
   "metadata": {
    "collapsed": false
   },
   "id": "cfebd3ddd5dda66f",
   "outputs": [],
   "execution_count": null
  },
  {
   "cell_type": "code",
   "source": [
    "# Create Ground Truth dataframe\n",
    "df = pd.read_csv(os.path.join(repo_dir, 'dataverse_files/', 'HAM10000_metadata.csv'))\n",
    "\n",
    "df.dx.unique()\n",
    "\n",
    "cancerous = [\"akiec\", \"bcc\", \"mel\"]\n",
    "non_cancerous = [\"bkl\", \"df\", \"nv\", \"vasc\"]\n",
    "df[\"cancer\"] = False\n",
    "\n",
    "# Assign True to 'cancer' where 'dx' matches the cancerous list\n",
    "df.loc[df['dx'].isin(cancerous), 'cancer'] = True\n",
    "df.loc[(df['dx'].isin(non_cancerous)), 'cancer'] = False\n",
    "df"
   ],
   "metadata": {
    "collapsed": false
   },
   "id": "7320630707438421",
   "outputs": [],
   "execution_count": null
  },
  {
   "cell_type": "markdown",
   "source": [
    "## Test Single Image"
   ],
   "metadata": {
    "collapsed": false
   },
   "id": "4a9582c50039058d"
  },
  {
   "metadata": {},
   "cell_type": "code",
   "source": [
    "image_path = os.path.join(original_folder_path, os.listdir(original_folder_path)[2])\n",
    "image = methods.load_image(image_path, BGR2RGB=True) # already in RGB"
   ],
   "id": "99d25ec0148b66f3",
   "outputs": [],
   "execution_count": null
  },
  {
   "metadata": {},
   "cell_type": "markdown",
   "source": "### Blob Detection",
   "id": "4e1e0beb0ae6af89"
  },
  {
   "cell_type": "code",
   "source": [
    "image = crop_rotate(image,90)\n",
    "\n",
    "# Convert the color from BGR to RGB\n",
    "gray_image = cv2.cvtColor(image, cv2.COLOR_RGB2GRAY)\n",
    "\n",
    "blob = methods.detect_significant_blob(image, plot_image=True, plot_chosen_transformation=False)\n",
    "\n",
    "#methods.calculate_glcm_features_for_blob(gray_image, blob)\n",
    "#plt.imshow(image)"
   ],
   "metadata": {
    "collapsed": false
   },
   "id": "deccd05c536a4c32",
   "outputs": [],
   "execution_count": null
  },
  {
   "metadata": {},
   "cell_type": "markdown",
   "source": "",
   "id": "b1c971e61efa0d6e"
  },
  {
   "cell_type": "code",
   "id": "a3a51f15-5287-4d27-9858-0be7e26248dc",
   "metadata": {},
   "source": [
    "hist = methods.create_histogram(image, color_space=\"HSV\")\n",
    "plt.plot(hist[0], \"r\")\n",
    "plt.plot(hist[1], \"g\")\n",
    "plt.plot(hist[2], \"b\")"
   ],
   "outputs": [],
   "execution_count": null
  },
  {
   "cell_type": "markdown",
   "source": [
    "## Feature Extraction (all images in folder)"
   ],
   "metadata": {
    "collapsed": false
   },
   "id": "8b488fc2338f6dfb"
  },
  {
   "metadata": {},
   "cell_type": "raw",
   "source": [
    "gabor_frequencies = [0.05, 0.1, 0.15, 0.2, 0.25]\n",
    "gabor_thetas = [0, np.pi/4, np.pi/2]\n",
    "gabor_sigmas = [1, 2, 3]\n",
    "\n",
    "# Apply the Gabor filters and extract features\n",
    "feature_results = methods.apply_gabor_filters_and_extract_features(image, gabor_frequencies, gabor_thetas, gabor_sigmas)\n"
   ],
   "id": "1715d5d5ffb0606d"
  },
  {
   "metadata": {},
   "cell_type": "code",
   "source": [
    "TRAIN_SIZE = 0.8\n",
    "OVERSAMPLE = True #  if set to false will not oversample the minority class\n",
    "try:\n",
    "    split_data_and_oversample(original_folder_path, processed_folder_path, df, TRAIN_SIZE, oversample=OVERSAMPLE)\n",
    "except OSError as e:\n",
    "    print(\"delete the Folder preprocessed_images and try again\")\n",
    "    print(e)\n",
    "    "
   ],
   "id": "f63e8b1b5967f561",
   "outputs": [],
   "execution_count": null
  },
  {
   "metadata": {},
   "cell_type": "code",
   "source": [
    "# Process training and testing images\n",
    "histograms_rgb_train, histograms_hsv_train, graycomatrix_features_train, Y_train = methods.extract_individual_features(df, join(processed_folder_path, \"train\"))\n",
    "histograms_rgb_test, histograms_hsv_test, graycomatrix_features_test, Y_test = methods.extract_individual_features(df, join(processed_folder_path, \"test\"))\n"
   ],
   "id": "58cb8898d5a16348",
   "outputs": [],
   "execution_count": null
  },
  {
   "cell_type": "markdown",
   "source": [
    "## Generate the Feature Vector"
   ],
   "metadata": {
    "collapsed": false
   },
   "id": "ac766c39f2e215cf"
  },
  {
   "metadata": {},
   "cell_type": "code",
   "source": [
    "X_train, X_test = methods.generate_feature_vector(\n",
    "    [histograms_hsv_train, histograms_hsv_train, graycomatrix_features_train], \n",
    "    [histograms_rgb_test, histograms_hsv_test, graycomatrix_features_test],)\n",
    "np.shape(histograms_hsv_train)\n",
    "np.shape(X_train), np.shape(X_test), np.shape(Y_train), np.shape(Y_test)"
   ],
   "id": "b19f5d5b373557cc",
   "outputs": [],
   "execution_count": null
  },
  {
   "metadata": {},
   "cell_type": "markdown",
   "source": "## Playground Model Training",
   "id": "e854a522a69c7ac7"
  },
  {
   "cell_type": "code",
   "source": [
    "# Initialize PCA, let's say we want to keep 95% of the variance\n",
    "pca = PCA(n_components=0.999995)\n",
    "\n",
    "# Fit and transform the data\n",
    "X_train_pca = pca.fit_transform(X_train)\n",
    "\n",
    "# Check the new shape of the data\n",
    "print(X_train_pca.shape)\n"
   ],
   "metadata": {
    "collapsed": false
   },
   "id": "4f8351e2f3b47652",
   "outputs": [],
   "execution_count": null
  },
  {
   "cell_type": "code",
   "source": [
    "# Scatter plot of the first two PCA components\n",
    "# Here, X_pca[:, 0] is the first component, X_pca[:, 1] is the second component\n",
    "plt.figure(figsize=(10, 7))\n",
    "plt.scatter(X_train_pca[Y_train == 0, 0], X_train_pca[Y_train == 0, 1], c='blue', label='Non-Cancerous', alpha=0.1)  # Non-cancerous in blue\n",
    "plt.scatter(X_train_pca[Y_train == 1, 0], X_train_pca[Y_train == 1, 1], c='red', label='Cancerous', alpha=0.1)  # Cancerous labeled in red\n",
    "\n",
    "# Adding labels and title\n",
    "plt.xlabel('Principal Component 1')\n",
    "plt.ylabel('Principal Component 2')\n",
    "plt.title('PCA of Image Data')\n",
    "plt.legend()\n"
   ],
   "metadata": {
    "collapsed": false
   },
   "id": "a78ec7eb2562f572",
   "outputs": [],
   "execution_count": null
  },
  {
   "cell_type": "code",
   "source": [
    "# Log Regression Model\n",
    "logreg = LogisticRegression(max_iter=10000)\n",
    "\n",
    "# Fit the logistic regression model on the training data\n",
    "logreg.fit(X_train, Y_train)\n",
    "\n",
    "# Predict the labels for the test set\n",
    "Y_pred = logreg.predict(X_test)"
   ],
   "metadata": {
    "collapsed": false
   },
   "id": "7f00ffb1ca292869",
   "outputs": [],
   "execution_count": null
  },
  {
   "cell_type": "code",
   "source": [
    "# SVM model\n",
    "# Scale features\n",
    "scaler = StandardScaler()\n",
    "X_train = scaler.fit_transform(X_train)\n",
    "X_test = scaler.transform(X_test)\n",
    "\n",
    "# Create an SVM classifier\n",
    "#clf = svm.SVC(kernel='poly', C=1.0, gamma=0.5, class_weight=\"balanced\")\n",
    "clf = svm.SVC(kernel='rbf', C=1.0, gamma=0.5, class_weight=\"balanced\")\n",
    "\n",
    "# Train the classifier\n",
    "clf.fit(X_train, Y_train)\n",
    "\n",
    "# Make predictions\n",
    "Y_pred = clf.predict(X_test)\n"
   ],
   "metadata": {
    "collapsed": false
   },
   "id": "66703d04d4955988",
   "outputs": [],
   "execution_count": null
  },
  {
   "cell_type": "code",
   "source": [
    "conf_matrix = confusion_matrix(Y_test, Y_pred)\n",
    "\n",
    "# Initialize the ConfusionMatrixDisplay object with the confusion matrix\n",
    "cmd = ConfusionMatrixDisplay(conf_matrix, display_labels=logreg.classes_)\n",
    "\n",
    "# Plot the confusion matrix\n",
    "cmd.plot(cmap=plt.cm.Blues)  # You can choose other color maps like 'viridis', 'plasma', etc.\n",
    "plt.title('Confusion Matrix')\n",
    "plt.show()"
   ],
   "metadata": {
    "collapsed": false
   },
   "id": "b7166c90206886cc",
   "outputs": [],
   "execution_count": null
  },
  {
   "cell_type": "code",
   "source": [
    "accuracy = accuracy_score(Y_test, Y_pred)\n",
    "precision = precision_score(Y_test, Y_pred, pos_label=1)\n",
    "recall = recall_score(Y_test, Y_pred, pos_label=1)\n",
    "f1 = f1_score(Y_test, Y_pred, pos_label=1)\n",
    "\n",
    "print(f\"Accuracy: {accuracy}\")\n",
    "print(f\"Precision: {precision}\")\n",
    "print(f\"Recall: {recall}\")\n",
    "print(f\"F1 Score: {f1}\")"
   ],
   "metadata": {
    "collapsed": false
   },
   "id": "831c9606e21ce057",
   "outputs": [],
   "execution_count": null
  },
  {
   "cell_type": "code",
   "source": [
    "histograms_rgb_cancer = histograms_rgb_train[Y_train==1].squeeze()\n",
    "histograms_rgb_benign = histograms_rgb_train[Y_train==0].squeeze()\n",
    "\n",
    "histograms_rgb_benign_avg = np.mean(histograms_rgb_benign, axis=0)\n",
    "histograms_rgb_cancer_avg = np.mean(histograms_rgb_cancer, axis=0)"
   ],
   "metadata": {
    "collapsed": false
   },
   "id": "ced728e9917c7051",
   "outputs": [],
   "execution_count": null
  },
  {
   "cell_type": "code",
   "source": [
    "fig, axes = plt.subplots(nrows=1, ncols=3, figsize=(14,5))\n",
    "\n",
    "ax1 = axes[0]\n",
    "ax1.plot(histograms_rgb_cancer_avg[0], \"r\", label=\"cancer\")\n",
    "ax1.plot(histograms_rgb_benign_avg[0], \":r\", label=\"benign\")\n",
    "ax1.set_xlabel(\"Red Intensity (a.u.)\")\n",
    "ax1.set_ylabel(\"Counts (a.u.)\")\n",
    "ax1.legend()\n",
    "\n",
    "ax2 = axes[1]\n",
    "ax2.plot(histograms_rgb_cancer_avg[1], \"g\", label=\"cancer\")\n",
    "ax2.plot(histograms_rgb_benign_avg[2], \":g\", label=\"benign\")\n",
    "ax2.set_xlabel(\"Green Intensity (a.u.)\")\n",
    "ax2.set_ylabel(\"Counts (a.u.)\")\n",
    "ax2.legend()\n",
    "\n",
    "ax3 = axes[2]\n",
    "ax3.plot(histograms_rgb_cancer_avg[2], \"b\", label=\"cancer\")\n",
    "ax3.plot(histograms_rgb_benign_avg[2], \":b\", label=\"benign\")\n",
    "ax3.set_xlabel(\"Blue Intensity (a.u.)\")\n",
    "ax3.set_ylabel(\"Counts (a.u.)\")\n",
    "ax3.legend()\n",
    "\n",
    "fig.tight_layout()\n",
    "fig.savefig(\"figures/rgb_hist.png\", dpi=300, transparent=False)"
   ],
   "metadata": {
    "collapsed": false
   },
   "id": "d231d3b371789b3b",
   "outputs": [],
   "execution_count": null
  }
 ],
 "metadata": {
  "kernelspec": {
   "display_name": "Python 3 (ipykernel)",
   "language": "python",
   "name": "python3"
  },
  "language_info": {
   "codemirror_mode": {
    "name": "ipython",
    "version": 3
   },
   "file_extension": ".py",
   "mimetype": "text/x-python",
   "name": "python",
   "nbconvert_exporter": "python",
   "pygments_lexer": "ipython3",
   "version": "3.11.8"
  }
 },
 "nbformat": 4,
 "nbformat_minor": 5
}
